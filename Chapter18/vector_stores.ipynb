{
 "cells": [
  {
   "cell_type": "markdown",
   "metadata": {
    "colab_type": "text",
    "id": "view-in-github"
   },
   "source": [
    "<a href=\"https://colab.research.google.com/github/PacktPublishing/Modern-Computer-Vision-with-PyTorch-2E/blob/main/Chapter18/vector_stores.ipynb\" target=\"_parent\"><img src=\"https://colab.research.google.com/assets/colab-badge.svg\" alt=\"Open In Colab\"/></a>"
   ]
  },
  {
   "cell_type": "code",
   "execution_count": null,
   "metadata": {
    "id": "ggtWhvNjlWfO"
   },
   "outputs": [],
   "source": [
    "%%capture\n",
    "try:\n",
    "  from torch_snippets import *\n",
    "except:\n",
    "  %pip install torch-snippets gitPython lovely-tensors\n",
    "  from torch_snippets import *\n",
    "\n",
    "from git import Repo\n",
    "\n",
    "repository_url = 'https://github.com/sizhky/quantization'\n",
    "destination_directory = '/content/quantization'\n",
    "if exists(destination_directory):\n",
    "  repo = Repo(destination_directory)\n",
    "else:\n",
    "  repo = Repo.clone_from(repository_url, destination_directory)\n",
    "\n",
    "%cd {destination_directory}\n",
    "%pip install -qq -r requirements.txt # this will take about 5 min of time\n",
    "%pip install -U torchvision\n",
    "# print(repo.git.pull('origin', 'main'))"
   ]
  },
  {
   "cell_type": "markdown",
   "metadata": {
    "id": "g4_DGZ9Pz7ed"
   },
   "source": [
    "# Train"
   ]
  },
  {
   "cell_type": "code",
   "execution_count": 2,
   "metadata": {
    "colab": {
     "base_uri": "https://localhost:8080/"
    },
    "id": "6vmhVRnHoExo",
    "outputId": "8bf97e4a-1f5c-4c77-a156-2a5b0f7dcc80"
   },
   "outputs": [
    {
     "name": "stdout",
     "output_type": "stream",
     "text": [
      "env: DEBUG=true\n",
      "python -m src.defect_classification.train\n",
      "/usr/local/lib/python3.10/dist-packages/torchvision/models/_utils.py:208: UserWarning: The parameter 'pretrained' is deprecated since 0.13 and may be removed in the future, please use 'weights' instead.\n",
      "  warnings.warn(\n",
      "/usr/local/lib/python3.10/dist-packages/torchvision/models/_utils.py:223: UserWarning: Arguments other than a weight enum or `None` for 'weights' are deprecated since 0.13 and may be removed in the future. The current behavior is equivalent to passing `weights=VGG16_Weights.IMAGENET1K_V1`. You can also use `weights=VGG16_Weights.DEFAULT` to get the most up-to-date weights.\n",
      "  warnings.warn(msg)\n",
      "Downloading: \"https://download.pytorch.org/models/vgg16-397923af.pth\" to /root/.cache/torch/hub/checkpoints/vgg16-397923af.pth\n",
      "100% 528M/528M [00:07<00:00, 70.3MB/s]\n",
      "Downloading readme: 100% 495/495 [00:00<00:00, 2.54MB/s]\n",
      "Downloading data: 100% 306M/306M [00:07<00:00, 42.0MB/s]\n",
      "Downloading data: 100% 305M/305M [00:07<00:00, 42.9MB/s]\n",
      "Downloading data: 100% 263M/263M [00:08<00:00, 31.4MB/s]\n",
      "Generating train split: 100% 2331/2331 [00:02<00:00, 880.94 examples/s]\n",
      "Generating valid split: 100% 1004/1004 [00:00<00:00, 1023.24 examples/s]\n",
      "Class Balance\n",
      " \n",
      "```↯ AttrDict ↯\n",
      "train\n",
      "  non_defect - \u001b[1;36m50\u001b[0m \u001b[1m(\u001b[0mint\u001b[1m)\u001b[0m\n",
      "  defect - \u001b[1;36m50\u001b[0m \u001b[1m(\u001b[0mint\u001b[1m)\u001b[0m\n",
      "valid\n",
      "  non_defect - \u001b[1;36m50\u001b[0m \u001b[1m(\u001b[0mint\u001b[1m)\u001b[0m\n",
      "  defect - \u001b[1;36m50\u001b[0m \u001b[1m(\u001b[0mint\u001b[1m)\u001b[0m\n",
      "\n",
      "```\n",
      "\n",
      "Map: 100% 100/100 [00:20<00:00,  4.96 examples/s]\n",
      "Map: 100% 100/100 [00:18<00:00,  5.28 examples/s]\n",
      "Epoch: \u001b[1;36m1\u001b[0m \u001b[33mtrain_epoch_loss\u001b[0m=\u001b[1;36m0\u001b[0m\u001b[1;36m.693\u001b[0m\n",
      "Epoch: \u001b[1;36m11\u001b[0m \u001b[33mtrain_epoch_loss\u001b[0m=\u001b[1;36m0\u001b[0m\u001b[1;36m.599\u001b[0m\n",
      "Epoch: \u001b[1;36m21\u001b[0m \u001b[33mtrain_epoch_loss\u001b[0m=\u001b[1;36m0\u001b[0m\u001b[1;36m.485\u001b[0m\n",
      "Saved model to model.pth\n"
     ]
    }
   ],
   "source": [
    "# Change to `Debug=false` in the line below\n",
    "# to train on a larger dataset\n",
    "%env DEBUG=true\n",
    "!make train"
   ]
  },
  {
   "cell_type": "markdown",
   "metadata": {
    "id": "nG9oeyDY0ChG"
   },
   "source": [
    "# Vector Store"
   ]
  },
  {
   "cell_type": "code",
   "execution_count": 3,
   "metadata": {
    "colab": {
     "base_uri": "https://localhost:8080/",
     "height": 364,
     "referenced_widgets": [
      "250bbba7197f4dc3bdb54a3401e719b8",
      "cee6312309724070a6fed741610733d7",
      "558bda8404bb4ec58670094aca9c1b8d",
      "536b474c84074d04ac30f2ac2ac84502",
      "975f892fc2624a41b51ffa90aa3c4ecd",
      "919a2f987095403bbd6a1e20251797c8",
      "f3b916871507417ea70d34cb5609f5ee",
      "d0a7de83540444b1b0cb1a4edaaa6fef",
      "36076101ce7e484791466b9741b1cb1c",
      "b2d2cd87ea164c429b86bfb2d57a4490",
      "3fdc556992764ff4ac3619c778c3c2f8",
      "b66e67c1876843748184a63666176bed",
      "62aae36f0c5d42bea78e4a2e119ccee7",
      "b487b213ace4452682534958e4150489",
      "21b4e76dca2d48cab29de526bd97c9b2",
      "edbfe4ab8ecf41609480a00f2a1bbc0b",
      "fc694f57e64f46cea611f5b7fbb3ac65",
      "a80936fdd7d44c6d819eb1410faf4f55",
      "5d61691df1fc40d0872513b08f6ee216",
      "55be1d53ef10484e836c336d2d024cb7",
      "ae056ea66b7141e69bd870bfa34d6ebe",
      "01ebff3ce304457c9a784c1e447be47d"
     ]
    },
    "id": "V1Co-RDeQHql",
    "outputId": "09ae922a-7fe0-44a7-9464-50dacabcc856"
   },
   "outputs": [
    {
     "name": "stderr",
     "output_type": "stream",
     "text": [
      "/usr/local/lib/python3.10/dist-packages/huggingface_hub/utils/_token.py:80: UserWarning: \n",
      "Access to the secret `HF_TOKEN` has not been granted on this notebook.\n",
      "You will not be requested again.\n",
      "Please restart the session if you want to be prompted again.\n",
      "  # => warn user but ignore error => do not re-request access to user\n"
     ]
    },
    {
     "data": {
      "text/html": [
       "<pre style=\"white-space:pre;overflow-x:auto;line-height:normal;font-family:Menlo,'DejaVu Sans Mono',consolas,'Courier New',monospace\">Class Balance\n",
       " \n",
       "```↯ AttrDict ↯\n",
       "train\n",
       "  non_defect - <span style=\"color: #008080; text-decoration-color: #008080; font-weight: bold\">50</span> <span style=\"font-weight: bold\">(</span>int<span style=\"font-weight: bold\">)</span>\n",
       "  defect - <span style=\"color: #008080; text-decoration-color: #008080; font-weight: bold\">50</span> <span style=\"font-weight: bold\">(</span>int<span style=\"font-weight: bold\">)</span>\n",
       "valid\n",
       "  non_defect - <span style=\"color: #008080; text-decoration-color: #008080; font-weight: bold\">50</span> <span style=\"font-weight: bold\">(</span>int<span style=\"font-weight: bold\">)</span>\n",
       "  defect - <span style=\"color: #008080; text-decoration-color: #008080; font-weight: bold\">50</span> <span style=\"font-weight: bold\">(</span>int<span style=\"font-weight: bold\">)</span>\n",
       "\n",
       "```\n",
       "\n",
       "</pre>\n"
      ],
      "text/plain": [
       "Class Balance\n",
       " \n",
       "```↯ AttrDict ↯\n",
       "train\n",
       "  non_defect - \u001b[1;36m50\u001b[0m \u001b[1m(\u001b[0mint\u001b[1m)\u001b[0m\n",
       "  defect - \u001b[1;36m50\u001b[0m \u001b[1m(\u001b[0mint\u001b[1m)\u001b[0m\n",
       "valid\n",
       "  non_defect - \u001b[1;36m50\u001b[0m \u001b[1m(\u001b[0mint\u001b[1m)\u001b[0m\n",
       "  defect - \u001b[1;36m50\u001b[0m \u001b[1m(\u001b[0mint\u001b[1m)\u001b[0m\n",
       "\n",
       "```\n",
       "\n"
      ]
     },
     "metadata": {},
     "output_type": "display_data"
    },
    {
     "data": {
      "application/vnd.jupyter.widget-view+json": {
       "model_id": "250bbba7197f4dc3bdb54a3401e719b8",
       "version_major": 2,
       "version_minor": 0
      },
      "text/plain": [
       "Map:   0%|          | 0/100 [00:00<?, ? examples/s]"
      ]
     },
     "metadata": {},
     "output_type": "display_data"
    },
    {
     "data": {
      "application/vnd.jupyter.widget-view+json": {
       "model_id": "b66e67c1876843748184a63666176bed",
       "version_major": 2,
       "version_minor": 0
      },
      "text/plain": [
       "Map:   0%|          | 0/100 [00:00<?, ? examples/s]"
      ]
     },
     "metadata": {},
     "output_type": "display_data"
    }
   ],
   "source": [
    "from torch_snippets import *\n",
    "from src.defect_classification.train import get_datasets, get_dataloaders\n",
    "\n",
    "trn_ds, val_ds = get_datasets(DEBUG=True)\n",
    "trn_dl, val_dl = get_dataloaders(trn_ds, val_ds)\n",
    "\n",
    "model = torch.load('model.pth').cuda().eval()\n"
   ]
  },
  {
   "cell_type": "code",
   "execution_count": 4,
   "metadata": {
    "id": "hdoMGkUfQHZI"
   },
   "outputs": [],
   "source": [
    "results = []\n",
    "for ix, batch in enumerate(iter(trn_dl)):\n",
    "  inter = model.avgpool(model.features(batch[0].cuda()))[:,:,0,0].detach().cpu().numpy()\n",
    "  results.append(inter)\n",
    "results = np.array(results)\n",
    "results = results.reshape(-1, 512)"
   ]
  },
  {
   "cell_type": "code",
   "execution_count": 6,
   "metadata": {
    "id": "msPF88puzknP"
   },
   "outputs": [],
   "source": [
    "import faiss\n",
    "import numpy as np\n",
    "\n",
    "index = faiss.IndexFlatL2(results.shape[1])  # L2 distance\n",
    "index.add(results)\n",
    "faiss.write_index(index, \"index_file.index\")\n",
    "im = val_ds[0]['image'][None].cuda()\n",
    "tmp = np.array(model.avgpool(model.features(im))[0,:,0,0].detach().cpu().numpy())\n",
    "query_vector = tmp.reshape(1,512).astype('float32')"
   ]
  },
  {
   "cell_type": "code",
   "execution_count": 7,
   "metadata": {
    "colab": {
     "base_uri": "https://localhost:8080/"
    },
    "id": "HLT3BGH70QBZ",
    "outputId": "2976e15c-3605-44fd-fdad-0acf20712488"
   },
   "outputs": [
    {
     "name": "stdout",
     "output_type": "stream",
     "text": [
      "CPU times: user 194 µs, sys: 0 ns, total: 194 µs\n",
      "Wall time: 200 µs\n"
     ]
    }
   ],
   "source": [
    "%%time\n",
    "k = 3  # Number of nearest neighbors to retrieve\n",
    "D, I = index.search(query_vector.astype('float32'), k)"
   ]
  },
  {
   "cell_type": "markdown",
   "metadata": {
    "id": "IPfZXkgu1uyC"
   },
   "source": [
    "## Vector Store on 960k vectors instead of 96"
   ]
  },
  {
   "cell_type": "code",
   "execution_count": 8,
   "metadata": {
    "colab": {
     "base_uri": "https://localhost:8080/",
     "height": 33
    },
    "id": "9-AkUQQR0iZP",
    "outputId": "31f6eb1e-7cf2-43e3-8731-a8489aafd3e8"
   },
   "outputs": [
    {
     "data": {
      "text/html": [
       "<pre style=\"white-space:pre;overflow-x:auto;line-height:normal;font-family:Menlo,'DejaVu Sans Mono',consolas,'Courier New',monospace\"><span style=\"font-weight: bold\">(</span><span style=\"color: #008080; text-decoration-color: #008080; font-weight: bold\">960000</span>, <span style=\"color: #008080; text-decoration-color: #008080; font-weight: bold\">512</span><span style=\"font-weight: bold\">)</span>\n",
       "</pre>\n"
      ],
      "text/plain": [
       "\u001b[1m(\u001b[0m\u001b[1;36m960000\u001b[0m, \u001b[1;36m512\u001b[0m\u001b[1m)\u001b[0m\n"
      ]
     },
     "metadata": {},
     "output_type": "display_data"
    }
   ],
   "source": [
    "vectors = np.array(results.tolist()*10000, dtype=np.float32)\n",
    "print(vectors.shape)\n",
    "index = faiss.IndexFlatL2(vectors.shape[1])  # L2 distance\n",
    "index.add(vectors)\n",
    "faiss.write_index(index, \"index_file_960k.index\")"
   ]
  },
  {
   "cell_type": "markdown",
   "metadata": {
    "id": "qPnvkodGSICF"
   },
   "source": [
    "Searching for `query_vector` using vector index takes 673ms"
   ]
  },
  {
   "cell_type": "code",
   "execution_count": 9,
   "metadata": {
    "colab": {
     "base_uri": "https://localhost:8080/"
    },
    "id": "MLv4L-Ks04oc",
    "outputId": "354b3160-778f-4e37-d5f0-19782507d12c"
   },
   "outputs": [
    {
     "name": "stdout",
     "output_type": "stream",
     "text": [
      "CPU times: user 670 ms, sys: 2.15 ms, total: 672 ms\n",
      "Wall time: 673 ms\n"
     ]
    }
   ],
   "source": [
    "%%time\n",
    "k = 3  # Number of nearest neighbors to retrieve\n",
    "D, I = index.search(query_vector.astype('float32'), k)"
   ]
  },
  {
   "cell_type": "markdown",
   "metadata": {
    "id": "SvXL1SnqSQZb"
   },
   "source": [
    "Searching for `query_vector` using numpy takes 7 seconds"
   ]
  },
  {
   "cell_type": "code",
   "execution_count": 11,
   "metadata": {
    "colab": {
     "base_uri": "https://localhost:8080/"
    },
    "id": "F-fwfKTS1AqI",
    "outputId": "3ede5c99-ba9f-433b-968a-ff31c4ef0b19"
   },
   "outputs": [
    {
     "name": "stdout",
     "output_type": "stream",
     "text": [
      "CPU times: user 1 s, sys: 4.56 s, total: 5.57 s\n",
      "Wall time: 7 s\n"
     ]
    }
   ],
   "source": [
    "%%time\n",
    "distances = np.sum(np.square(query_vector - vectors), axis=1)\n",
    "sorted_distances = np.sort(distances)"
   ]
  }
 ],
 "metadata": {
  "accelerator": "GPU",
  "colab": {
   "gpuType": "T4",
   "provenance": []
  },
  "kernelspec": {
   "display_name": "Python 3 (ipykernel)",
   "language": "python",
   "name": "python3"
  },
  "language_info": {
   "codemirror_mode": {
    "name": "ipython",
    "version": 3
   },
   "file_extension": ".py",
   "mimetype": "text/x-python",
   "name": "python",
   "nbconvert_exporter": "python",
   "pygments_lexer": "ipython3",
   "version": "3.12.2"
  },
  "widgets": {
   "application/vnd.jupyter.widget-state+json": {
    "01ebff3ce304457c9a784c1e447be47d": {
     "model_module": "@jupyter-widgets/controls",
     "model_module_version": "1.5.0",
     "model_name": "DescriptionStyleModel",
     "state": {
      "_model_module": "@jupyter-widgets/controls",
      "_model_module_version": "1.5.0",
      "_model_name": "DescriptionStyleModel",
      "_view_count": null,
      "_view_module": "@jupyter-widgets/base",
      "_view_module_version": "1.2.0",
      "_view_name": "StyleView",
      "description_width": ""
     }
    },
    "21b4e76dca2d48cab29de526bd97c9b2": {
     "model_module": "@jupyter-widgets/controls",
     "model_module_version": "1.5.0",
     "model_name": "HTMLModel",
     "state": {
      "_dom_classes": [],
      "_model_module": "@jupyter-widgets/controls",
      "_model_module_version": "1.5.0",
      "_model_name": "HTMLModel",
      "_view_count": null,
      "_view_module": "@jupyter-widgets/controls",
      "_view_module_version": "1.5.0",
      "_view_name": "HTMLView",
      "description": "",
      "description_tooltip": null,
      "layout": "IPY_MODEL_ae056ea66b7141e69bd870bfa34d6ebe",
      "placeholder": "​",
      "style": "IPY_MODEL_01ebff3ce304457c9a784c1e447be47d",
      "value": " 100/100 [00:18&lt;00:00,  1.19 examples/s]"
     }
    },
    "250bbba7197f4dc3bdb54a3401e719b8": {
     "model_module": "@jupyter-widgets/controls",
     "model_module_version": "1.5.0",
     "model_name": "HBoxModel",
     "state": {
      "_dom_classes": [],
      "_model_module": "@jupyter-widgets/controls",
      "_model_module_version": "1.5.0",
      "_model_name": "HBoxModel",
      "_view_count": null,
      "_view_module": "@jupyter-widgets/controls",
      "_view_module_version": "1.5.0",
      "_view_name": "HBoxView",
      "box_style": "",
      "children": [
       "IPY_MODEL_cee6312309724070a6fed741610733d7",
       "IPY_MODEL_558bda8404bb4ec58670094aca9c1b8d",
       "IPY_MODEL_536b474c84074d04ac30f2ac2ac84502"
      ],
      "layout": "IPY_MODEL_975f892fc2624a41b51ffa90aa3c4ecd"
     }
    },
    "36076101ce7e484791466b9741b1cb1c": {
     "model_module": "@jupyter-widgets/controls",
     "model_module_version": "1.5.0",
     "model_name": "ProgressStyleModel",
     "state": {
      "_model_module": "@jupyter-widgets/controls",
      "_model_module_version": "1.5.0",
      "_model_name": "ProgressStyleModel",
      "_view_count": null,
      "_view_module": "@jupyter-widgets/base",
      "_view_module_version": "1.2.0",
      "_view_name": "StyleView",
      "bar_color": null,
      "description_width": ""
     }
    },
    "3fdc556992764ff4ac3619c778c3c2f8": {
     "model_module": "@jupyter-widgets/controls",
     "model_module_version": "1.5.0",
     "model_name": "DescriptionStyleModel",
     "state": {
      "_model_module": "@jupyter-widgets/controls",
      "_model_module_version": "1.5.0",
      "_model_name": "DescriptionStyleModel",
      "_view_count": null,
      "_view_module": "@jupyter-widgets/base",
      "_view_module_version": "1.2.0",
      "_view_name": "StyleView",
      "description_width": ""
     }
    },
    "536b474c84074d04ac30f2ac2ac84502": {
     "model_module": "@jupyter-widgets/controls",
     "model_module_version": "1.5.0",
     "model_name": "HTMLModel",
     "state": {
      "_dom_classes": [],
      "_model_module": "@jupyter-widgets/controls",
      "_model_module_version": "1.5.0",
      "_model_name": "HTMLModel",
      "_view_count": null,
      "_view_module": "@jupyter-widgets/controls",
      "_view_module_version": "1.5.0",
      "_view_name": "HTMLView",
      "description": "",
      "description_tooltip": null,
      "layout": "IPY_MODEL_b2d2cd87ea164c429b86bfb2d57a4490",
      "placeholder": "​",
      "style": "IPY_MODEL_3fdc556992764ff4ac3619c778c3c2f8",
      "value": " 100/100 [00:26&lt;00:00,  1.55s/ examples]"
     }
    },
    "558bda8404bb4ec58670094aca9c1b8d": {
     "model_module": "@jupyter-widgets/controls",
     "model_module_version": "1.5.0",
     "model_name": "FloatProgressModel",
     "state": {
      "_dom_classes": [],
      "_model_module": "@jupyter-widgets/controls",
      "_model_module_version": "1.5.0",
      "_model_name": "FloatProgressModel",
      "_view_count": null,
      "_view_module": "@jupyter-widgets/controls",
      "_view_module_version": "1.5.0",
      "_view_name": "ProgressView",
      "bar_style": "success",
      "description": "",
      "description_tooltip": null,
      "layout": "IPY_MODEL_d0a7de83540444b1b0cb1a4edaaa6fef",
      "max": 100,
      "min": 0,
      "orientation": "horizontal",
      "style": "IPY_MODEL_36076101ce7e484791466b9741b1cb1c",
      "value": 100
     }
    },
    "55be1d53ef10484e836c336d2d024cb7": {
     "model_module": "@jupyter-widgets/controls",
     "model_module_version": "1.5.0",
     "model_name": "ProgressStyleModel",
     "state": {
      "_model_module": "@jupyter-widgets/controls",
      "_model_module_version": "1.5.0",
      "_model_name": "ProgressStyleModel",
      "_view_count": null,
      "_view_module": "@jupyter-widgets/base",
      "_view_module_version": "1.2.0",
      "_view_name": "StyleView",
      "bar_color": null,
      "description_width": ""
     }
    },
    "5d61691df1fc40d0872513b08f6ee216": {
     "model_module": "@jupyter-widgets/base",
     "model_module_version": "1.2.0",
     "model_name": "LayoutModel",
     "state": {
      "_model_module": "@jupyter-widgets/base",
      "_model_module_version": "1.2.0",
      "_model_name": "LayoutModel",
      "_view_count": null,
      "_view_module": "@jupyter-widgets/base",
      "_view_module_version": "1.2.0",
      "_view_name": "LayoutView",
      "align_content": null,
      "align_items": null,
      "align_self": null,
      "border": null,
      "bottom": null,
      "display": null,
      "flex": null,
      "flex_flow": null,
      "grid_area": null,
      "grid_auto_columns": null,
      "grid_auto_flow": null,
      "grid_auto_rows": null,
      "grid_column": null,
      "grid_gap": null,
      "grid_row": null,
      "grid_template_areas": null,
      "grid_template_columns": null,
      "grid_template_rows": null,
      "height": null,
      "justify_content": null,
      "justify_items": null,
      "left": null,
      "margin": null,
      "max_height": null,
      "max_width": null,
      "min_height": null,
      "min_width": null,
      "object_fit": null,
      "object_position": null,
      "order": null,
      "overflow": null,
      "overflow_x": null,
      "overflow_y": null,
      "padding": null,
      "right": null,
      "top": null,
      "visibility": null,
      "width": null
     }
    },
    "62aae36f0c5d42bea78e4a2e119ccee7": {
     "model_module": "@jupyter-widgets/controls",
     "model_module_version": "1.5.0",
     "model_name": "HTMLModel",
     "state": {
      "_dom_classes": [],
      "_model_module": "@jupyter-widgets/controls",
      "_model_module_version": "1.5.0",
      "_model_name": "HTMLModel",
      "_view_count": null,
      "_view_module": "@jupyter-widgets/controls",
      "_view_module_version": "1.5.0",
      "_view_name": "HTMLView",
      "description": "",
      "description_tooltip": null,
      "layout": "IPY_MODEL_fc694f57e64f46cea611f5b7fbb3ac65",
      "placeholder": "​",
      "style": "IPY_MODEL_a80936fdd7d44c6d819eb1410faf4f55",
      "value": "Map: 100%"
     }
    },
    "919a2f987095403bbd6a1e20251797c8": {
     "model_module": "@jupyter-widgets/base",
     "model_module_version": "1.2.0",
     "model_name": "LayoutModel",
     "state": {
      "_model_module": "@jupyter-widgets/base",
      "_model_module_version": "1.2.0",
      "_model_name": "LayoutModel",
      "_view_count": null,
      "_view_module": "@jupyter-widgets/base",
      "_view_module_version": "1.2.0",
      "_view_name": "LayoutView",
      "align_content": null,
      "align_items": null,
      "align_self": null,
      "border": null,
      "bottom": null,
      "display": null,
      "flex": null,
      "flex_flow": null,
      "grid_area": null,
      "grid_auto_columns": null,
      "grid_auto_flow": null,
      "grid_auto_rows": null,
      "grid_column": null,
      "grid_gap": null,
      "grid_row": null,
      "grid_template_areas": null,
      "grid_template_columns": null,
      "grid_template_rows": null,
      "height": null,
      "justify_content": null,
      "justify_items": null,
      "left": null,
      "margin": null,
      "max_height": null,
      "max_width": null,
      "min_height": null,
      "min_width": null,
      "object_fit": null,
      "object_position": null,
      "order": null,
      "overflow": null,
      "overflow_x": null,
      "overflow_y": null,
      "padding": null,
      "right": null,
      "top": null,
      "visibility": null,
      "width": null
     }
    },
    "975f892fc2624a41b51ffa90aa3c4ecd": {
     "model_module": "@jupyter-widgets/base",
     "model_module_version": "1.2.0",
     "model_name": "LayoutModel",
     "state": {
      "_model_module": "@jupyter-widgets/base",
      "_model_module_version": "1.2.0",
      "_model_name": "LayoutModel",
      "_view_count": null,
      "_view_module": "@jupyter-widgets/base",
      "_view_module_version": "1.2.0",
      "_view_name": "LayoutView",
      "align_content": null,
      "align_items": null,
      "align_self": null,
      "border": null,
      "bottom": null,
      "display": null,
      "flex": null,
      "flex_flow": null,
      "grid_area": null,
      "grid_auto_columns": null,
      "grid_auto_flow": null,
      "grid_auto_rows": null,
      "grid_column": null,
      "grid_gap": null,
      "grid_row": null,
      "grid_template_areas": null,
      "grid_template_columns": null,
      "grid_template_rows": null,
      "height": null,
      "justify_content": null,
      "justify_items": null,
      "left": null,
      "margin": null,
      "max_height": null,
      "max_width": null,
      "min_height": null,
      "min_width": null,
      "object_fit": null,
      "object_position": null,
      "order": null,
      "overflow": null,
      "overflow_x": null,
      "overflow_y": null,
      "padding": null,
      "right": null,
      "top": null,
      "visibility": null,
      "width": null
     }
    },
    "a80936fdd7d44c6d819eb1410faf4f55": {
     "model_module": "@jupyter-widgets/controls",
     "model_module_version": "1.5.0",
     "model_name": "DescriptionStyleModel",
     "state": {
      "_model_module": "@jupyter-widgets/controls",
      "_model_module_version": "1.5.0",
      "_model_name": "DescriptionStyleModel",
      "_view_count": null,
      "_view_module": "@jupyter-widgets/base",
      "_view_module_version": "1.2.0",
      "_view_name": "StyleView",
      "description_width": ""
     }
    },
    "ae056ea66b7141e69bd870bfa34d6ebe": {
     "model_module": "@jupyter-widgets/base",
     "model_module_version": "1.2.0",
     "model_name": "LayoutModel",
     "state": {
      "_model_module": "@jupyter-widgets/base",
      "_model_module_version": "1.2.0",
      "_model_name": "LayoutModel",
      "_view_count": null,
      "_view_module": "@jupyter-widgets/base",
      "_view_module_version": "1.2.0",
      "_view_name": "LayoutView",
      "align_content": null,
      "align_items": null,
      "align_self": null,
      "border": null,
      "bottom": null,
      "display": null,
      "flex": null,
      "flex_flow": null,
      "grid_area": null,
      "grid_auto_columns": null,
      "grid_auto_flow": null,
      "grid_auto_rows": null,
      "grid_column": null,
      "grid_gap": null,
      "grid_row": null,
      "grid_template_areas": null,
      "grid_template_columns": null,
      "grid_template_rows": null,
      "height": null,
      "justify_content": null,
      "justify_items": null,
      "left": null,
      "margin": null,
      "max_height": null,
      "max_width": null,
      "min_height": null,
      "min_width": null,
      "object_fit": null,
      "object_position": null,
      "order": null,
      "overflow": null,
      "overflow_x": null,
      "overflow_y": null,
      "padding": null,
      "right": null,
      "top": null,
      "visibility": null,
      "width": null
     }
    },
    "b2d2cd87ea164c429b86bfb2d57a4490": {
     "model_module": "@jupyter-widgets/base",
     "model_module_version": "1.2.0",
     "model_name": "LayoutModel",
     "state": {
      "_model_module": "@jupyter-widgets/base",
      "_model_module_version": "1.2.0",
      "_model_name": "LayoutModel",
      "_view_count": null,
      "_view_module": "@jupyter-widgets/base",
      "_view_module_version": "1.2.0",
      "_view_name": "LayoutView",
      "align_content": null,
      "align_items": null,
      "align_self": null,
      "border": null,
      "bottom": null,
      "display": null,
      "flex": null,
      "flex_flow": null,
      "grid_area": null,
      "grid_auto_columns": null,
      "grid_auto_flow": null,
      "grid_auto_rows": null,
      "grid_column": null,
      "grid_gap": null,
      "grid_row": null,
      "grid_template_areas": null,
      "grid_template_columns": null,
      "grid_template_rows": null,
      "height": null,
      "justify_content": null,
      "justify_items": null,
      "left": null,
      "margin": null,
      "max_height": null,
      "max_width": null,
      "min_height": null,
      "min_width": null,
      "object_fit": null,
      "object_position": null,
      "order": null,
      "overflow": null,
      "overflow_x": null,
      "overflow_y": null,
      "padding": null,
      "right": null,
      "top": null,
      "visibility": null,
      "width": null
     }
    },
    "b487b213ace4452682534958e4150489": {
     "model_module": "@jupyter-widgets/controls",
     "model_module_version": "1.5.0",
     "model_name": "FloatProgressModel",
     "state": {
      "_dom_classes": [],
      "_model_module": "@jupyter-widgets/controls",
      "_model_module_version": "1.5.0",
      "_model_name": "FloatProgressModel",
      "_view_count": null,
      "_view_module": "@jupyter-widgets/controls",
      "_view_module_version": "1.5.0",
      "_view_name": "ProgressView",
      "bar_style": "success",
      "description": "",
      "description_tooltip": null,
      "layout": "IPY_MODEL_5d61691df1fc40d0872513b08f6ee216",
      "max": 100,
      "min": 0,
      "orientation": "horizontal",
      "style": "IPY_MODEL_55be1d53ef10484e836c336d2d024cb7",
      "value": 100
     }
    },
    "b66e67c1876843748184a63666176bed": {
     "model_module": "@jupyter-widgets/controls",
     "model_module_version": "1.5.0",
     "model_name": "HBoxModel",
     "state": {
      "_dom_classes": [],
      "_model_module": "@jupyter-widgets/controls",
      "_model_module_version": "1.5.0",
      "_model_name": "HBoxModel",
      "_view_count": null,
      "_view_module": "@jupyter-widgets/controls",
      "_view_module_version": "1.5.0",
      "_view_name": "HBoxView",
      "box_style": "",
      "children": [
       "IPY_MODEL_62aae36f0c5d42bea78e4a2e119ccee7",
       "IPY_MODEL_b487b213ace4452682534958e4150489",
       "IPY_MODEL_21b4e76dca2d48cab29de526bd97c9b2"
      ],
      "layout": "IPY_MODEL_edbfe4ab8ecf41609480a00f2a1bbc0b"
     }
    },
    "cee6312309724070a6fed741610733d7": {
     "model_module": "@jupyter-widgets/controls",
     "model_module_version": "1.5.0",
     "model_name": "HTMLModel",
     "state": {
      "_dom_classes": [],
      "_model_module": "@jupyter-widgets/controls",
      "_model_module_version": "1.5.0",
      "_model_name": "HTMLModel",
      "_view_count": null,
      "_view_module": "@jupyter-widgets/controls",
      "_view_module_version": "1.5.0",
      "_view_name": "HTMLView",
      "description": "",
      "description_tooltip": null,
      "layout": "IPY_MODEL_919a2f987095403bbd6a1e20251797c8",
      "placeholder": "​",
      "style": "IPY_MODEL_f3b916871507417ea70d34cb5609f5ee",
      "value": "Map: 100%"
     }
    },
    "d0a7de83540444b1b0cb1a4edaaa6fef": {
     "model_module": "@jupyter-widgets/base",
     "model_module_version": "1.2.0",
     "model_name": "LayoutModel",
     "state": {
      "_model_module": "@jupyter-widgets/base",
      "_model_module_version": "1.2.0",
      "_model_name": "LayoutModel",
      "_view_count": null,
      "_view_module": "@jupyter-widgets/base",
      "_view_module_version": "1.2.0",
      "_view_name": "LayoutView",
      "align_content": null,
      "align_items": null,
      "align_self": null,
      "border": null,
      "bottom": null,
      "display": null,
      "flex": null,
      "flex_flow": null,
      "grid_area": null,
      "grid_auto_columns": null,
      "grid_auto_flow": null,
      "grid_auto_rows": null,
      "grid_column": null,
      "grid_gap": null,
      "grid_row": null,
      "grid_template_areas": null,
      "grid_template_columns": null,
      "grid_template_rows": null,
      "height": null,
      "justify_content": null,
      "justify_items": null,
      "left": null,
      "margin": null,
      "max_height": null,
      "max_width": null,
      "min_height": null,
      "min_width": null,
      "object_fit": null,
      "object_position": null,
      "order": null,
      "overflow": null,
      "overflow_x": null,
      "overflow_y": null,
      "padding": null,
      "right": null,
      "top": null,
      "visibility": null,
      "width": null
     }
    },
    "edbfe4ab8ecf41609480a00f2a1bbc0b": {
     "model_module": "@jupyter-widgets/base",
     "model_module_version": "1.2.0",
     "model_name": "LayoutModel",
     "state": {
      "_model_module": "@jupyter-widgets/base",
      "_model_module_version": "1.2.0",
      "_model_name": "LayoutModel",
      "_view_count": null,
      "_view_module": "@jupyter-widgets/base",
      "_view_module_version": "1.2.0",
      "_view_name": "LayoutView",
      "align_content": null,
      "align_items": null,
      "align_self": null,
      "border": null,
      "bottom": null,
      "display": null,
      "flex": null,
      "flex_flow": null,
      "grid_area": null,
      "grid_auto_columns": null,
      "grid_auto_flow": null,
      "grid_auto_rows": null,
      "grid_column": null,
      "grid_gap": null,
      "grid_row": null,
      "grid_template_areas": null,
      "grid_template_columns": null,
      "grid_template_rows": null,
      "height": null,
      "justify_content": null,
      "justify_items": null,
      "left": null,
      "margin": null,
      "max_height": null,
      "max_width": null,
      "min_height": null,
      "min_width": null,
      "object_fit": null,
      "object_position": null,
      "order": null,
      "overflow": null,
      "overflow_x": null,
      "overflow_y": null,
      "padding": null,
      "right": null,
      "top": null,
      "visibility": null,
      "width": null
     }
    },
    "f3b916871507417ea70d34cb5609f5ee": {
     "model_module": "@jupyter-widgets/controls",
     "model_module_version": "1.5.0",
     "model_name": "DescriptionStyleModel",
     "state": {
      "_model_module": "@jupyter-widgets/controls",
      "_model_module_version": "1.5.0",
      "_model_name": "DescriptionStyleModel",
      "_view_count": null,
      "_view_module": "@jupyter-widgets/base",
      "_view_module_version": "1.2.0",
      "_view_name": "StyleView",
      "description_width": ""
     }
    },
    "fc694f57e64f46cea611f5b7fbb3ac65": {
     "model_module": "@jupyter-widgets/base",
     "model_module_version": "1.2.0",
     "model_name": "LayoutModel",
     "state": {
      "_model_module": "@jupyter-widgets/base",
      "_model_module_version": "1.2.0",
      "_model_name": "LayoutModel",
      "_view_count": null,
      "_view_module": "@jupyter-widgets/base",
      "_view_module_version": "1.2.0",
      "_view_name": "LayoutView",
      "align_content": null,
      "align_items": null,
      "align_self": null,
      "border": null,
      "bottom": null,
      "display": null,
      "flex": null,
      "flex_flow": null,
      "grid_area": null,
      "grid_auto_columns": null,
      "grid_auto_flow": null,
      "grid_auto_rows": null,
      "grid_column": null,
      "grid_gap": null,
      "grid_row": null,
      "grid_template_areas": null,
      "grid_template_columns": null,
      "grid_template_rows": null,
      "height": null,
      "justify_content": null,
      "justify_items": null,
      "left": null,
      "margin": null,
      "max_height": null,
      "max_width": null,
      "min_height": null,
      "min_width": null,
      "object_fit": null,
      "object_position": null,
      "order": null,
      "overflow": null,
      "overflow_x": null,
      "overflow_y": null,
      "padding": null,
      "right": null,
      "top": null,
      "visibility": null,
      "width": null
     }
    }
   }
  }
 },
 "nbformat": 4,
 "nbformat_minor": 4
}
