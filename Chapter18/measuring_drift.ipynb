{
 "cells": [
  {
   "cell_type": "markdown",
   "metadata": {
    "colab_type": "text",
    "id": "view-in-github"
   },
   "source": [
    "<a href=\"https://colab.research.google.com/github/PacktPublishing/Modern-Computer-Vision-with-PyTorch-2E/blob/main/Chapter18/measuring_drift.ipynb\" target=\"_parent\"><img src=\"https://colab.research.google.com/assets/colab-badge.svg\" alt=\"Open In Colab\"/></a>"
   ]
  },
  {
   "cell_type": "code",
   "execution_count": 1,
   "metadata": {
    "id": "ggtWhvNjlWfO"
   },
   "outputs": [],
   "source": [
    "%%capture\n",
    "try:\n",
    "  from torch_snippets import *\n",
    "except:\n",
    "  %pip install torch-snippets gitPython lovely-tensors\n",
    "  from torch_snippets import *\n",
    "\n",
    "from git import Repo\n",
    "\n",
    "repository_url = 'https://github.com/sizhky/quantization'\n",
    "destination_directory = '/content/quantization'\n",
    "if exists(destination_directory):\n",
    "  repo = Repo(destination_directory)\n",
    "else:\n",
    "  repo = Repo.clone_from(repository_url, destination_directory)\n",
    "\n",
    "%cd {destination_directory}\n",
    "%pip install -qq -r requirements.txt # this will take about 5 min of time\n",
    "%pip install -U torchvision"
   ]
  },
  {
   "cell_type": "markdown",
   "metadata": {
    "id": "g4_DGZ9Pz7ed"
   },
   "source": [
    "# Train"
   ]
  },
  {
   "cell_type": "code",
   "execution_count": 2,
   "metadata": {
    "colab": {
     "base_uri": "https://localhost:8080/"
    },
    "id": "6vmhVRnHoExo",
    "outputId": "18d50a39-f073-4bcc-d4e8-2acc3b449a12"
   },
   "outputs": [
    {
     "name": "stdout",
     "output_type": "stream",
     "text": [
      "env: DEBUG=true\n",
      "python -m src.defect_classification.train\n",
      "/usr/local/lib/python3.10/dist-packages/torchvision/models/_utils.py:208: UserWarning: The parameter 'pretrained' is deprecated since 0.13 and may be removed in the future, please use 'weights' instead.\n",
      "  warnings.warn(\n",
      "/usr/local/lib/python3.10/dist-packages/torchvision/models/_utils.py:223: UserWarning: Arguments other than a weight enum or `None` for 'weights' are deprecated since 0.13 and may be removed in the future. The current behavior is equivalent to passing `weights=VGG16_Weights.IMAGENET1K_V1`. You can also use `weights=VGG16_Weights.DEFAULT` to get the most up-to-date weights.\n",
      "  warnings.warn(msg)\n",
      "Downloading: \"https://download.pytorch.org/models/vgg16-397923af.pth\" to /root/.cache/torch/hub/checkpoints/vgg16-397923af.pth\n",
      "100% 528M/528M [00:07<00:00, 73.7MB/s]\n",
      "Downloading readme: 100% 495/495 [00:00<00:00, 2.81MB/s]\n",
      "Downloading data: 100% 306M/306M [00:02<00:00, 113MB/s]\n",
      "Downloading data: 100% 305M/305M [00:05<00:00, 55.8MB/s]\n",
      "Downloading data: 100% 263M/263M [00:02<00:00, 92.0MB/s]\n",
      "Generating train split: 100% 2331/2331 [00:04<00:00, 487.80 examples/s]\n",
      "Generating valid split: 100% 1004/1004 [00:01<00:00, 838.62 examples/s]\n",
      "Class Balance\n",
      " \n",
      "```↯ AttrDict ↯\n",
      "train\n",
      "  non_defect - \u001b[1;36m50\u001b[0m \u001b[1m(\u001b[0mint\u001b[1m)\u001b[0m\n",
      "  defect - \u001b[1;36m50\u001b[0m \u001b[1m(\u001b[0mint\u001b[1m)\u001b[0m\n",
      "valid\n",
      "  non_defect - \u001b[1;36m50\u001b[0m \u001b[1m(\u001b[0mint\u001b[1m)\u001b[0m\n",
      "  defect - \u001b[1;36m50\u001b[0m \u001b[1m(\u001b[0mint\u001b[1m)\u001b[0m\n",
      "\n",
      "```\n",
      "\n",
      "Map: 100% 100/100 [00:17<00:00,  5.66 examples/s]\n",
      "Map: 100% 100/100 [00:17<00:00,  5.57 examples/s]\n",
      "Epoch: \u001b[1;36m1\u001b[0m \u001b[33mtrain_epoch_loss\u001b[0m=\u001b[1;36m0\u001b[0m\u001b[1;36m.693\u001b[0m\n",
      "Epoch: \u001b[1;36m11\u001b[0m \u001b[33mtrain_epoch_loss\u001b[0m=\u001b[1;36m0\u001b[0m\u001b[1;36m.609\u001b[0m\n",
      "Epoch: \u001b[1;36m21\u001b[0m \u001b[33mtrain_epoch_loss\u001b[0m=\u001b[1;36m0\u001b[0m\u001b[1;36m.493\u001b[0m\n",
      "Saved model to model.pth\n"
     ]
    }
   ],
   "source": [
    "# Change to `Debug=false` in the line below\n",
    "# to train on a larger dataset\n",
    "%env DEBUG=true\n",
    "!make train"
   ]
  },
  {
   "cell_type": "markdown",
   "metadata": {
    "id": "9VtWxuxTz35K"
   },
   "source": [
    "# Measuring Data Drift"
   ]
  },
  {
   "cell_type": "code",
   "execution_count": 3,
   "metadata": {
    "colab": {
     "base_uri": "https://localhost:8080/",
     "height": 364,
     "referenced_widgets": [
      "4eed619956f04b4da005781803e38bf0",
      "a2fad0c818794610a27610afa04f801c",
      "ddcbb4b3078d407f9dffc5e2391218f7",
      "419ee169bfae48c5bdba4962c7964e13",
      "a402f76f77f94f8aada37fccc4112929",
      "5036cbb8cde64b9d9d5035bf46d33868",
      "e7fbfc2a8deb434a8ef3d1113cf9ef5a",
      "c5c22cc56f094a4e9bba817c0047efeb",
      "4ef37c1e027742f5a50bd2b415986abb",
      "96b4b3c7786c45efa26a68eae1dfb24d",
      "ae810e10575549ee871368723b85c1d2",
      "4237fd8488fb471181bd148586eef43c",
      "ebc8081e388c4f05b8812d1b3a80e7fe",
      "24f4f53100194a0fb6a36a291daffc59",
      "0c3f2351ed7746f4a7d0d4226cf2a27b",
      "c511a5ce62d34523a59f39d2b267d616",
      "3843cb0d88fe479ea83169daba4d403f",
      "3bc21d5749964a9f911526ce7fb1a7a8",
      "0932f85b67dd4e369abd2e0893a504b3",
      "42b78f526fb84e2fa376b642445b9211",
      "6aec8139b57b47a3917f34a57e7410ef",
      "d310a959a2a840ddaca9aaeb551054b1"
     ]
    },
    "id": "fBc1U3nsxPpI",
    "outputId": "def24455-daa2-4049-fb74-a51e006f9670"
   },
   "outputs": [
    {
     "name": "stderr",
     "output_type": "stream",
     "text": [
      "/usr/local/lib/python3.10/dist-packages/huggingface_hub/utils/_token.py:80: UserWarning: \n",
      "Access to the secret `HF_TOKEN` has not been granted on this notebook.\n",
      "You will not be requested again.\n",
      "Please restart the session if you want to be prompted again.\n",
      "  # => warn user but ignore error => do not re-request access to user\n"
     ]
    },
    {
     "data": {
      "text/html": [
       "<pre style=\"white-space:pre;overflow-x:auto;line-height:normal;font-family:Menlo,'DejaVu Sans Mono',consolas,'Courier New',monospace\">Class Balance\n",
       " \n",
       "```↯ AttrDict ↯\n",
       "train\n",
       "  non_defect - <span style=\"color: #008080; text-decoration-color: #008080; font-weight: bold\">50</span> <span style=\"font-weight: bold\">(</span>int<span style=\"font-weight: bold\">)</span>\n",
       "  defect - <span style=\"color: #008080; text-decoration-color: #008080; font-weight: bold\">50</span> <span style=\"font-weight: bold\">(</span>int<span style=\"font-weight: bold\">)</span>\n",
       "valid\n",
       "  non_defect - <span style=\"color: #008080; text-decoration-color: #008080; font-weight: bold\">50</span> <span style=\"font-weight: bold\">(</span>int<span style=\"font-weight: bold\">)</span>\n",
       "  defect - <span style=\"color: #008080; text-decoration-color: #008080; font-weight: bold\">50</span> <span style=\"font-weight: bold\">(</span>int<span style=\"font-weight: bold\">)</span>\n",
       "\n",
       "```\n",
       "\n",
       "</pre>\n"
      ],
      "text/plain": [
       "Class Balance\n",
       " \n",
       "```↯ AttrDict ↯\n",
       "train\n",
       "  non_defect - \u001b[1;36m50\u001b[0m \u001b[1m(\u001b[0mint\u001b[1m)\u001b[0m\n",
       "  defect - \u001b[1;36m50\u001b[0m \u001b[1m(\u001b[0mint\u001b[1m)\u001b[0m\n",
       "valid\n",
       "  non_defect - \u001b[1;36m50\u001b[0m \u001b[1m(\u001b[0mint\u001b[1m)\u001b[0m\n",
       "  defect - \u001b[1;36m50\u001b[0m \u001b[1m(\u001b[0mint\u001b[1m)\u001b[0m\n",
       "\n",
       "```\n",
       "\n"
      ]
     },
     "metadata": {},
     "output_type": "display_data"
    },
    {
     "data": {
      "application/vnd.jupyter.widget-view+json": {
       "model_id": "4eed619956f04b4da005781803e38bf0",
       "version_major": 2,
       "version_minor": 0
      },
      "text/plain": [
       "Map:   0%|          | 0/100 [00:00<?, ? examples/s]"
      ]
     },
     "metadata": {},
     "output_type": "display_data"
    },
    {
     "data": {
      "application/vnd.jupyter.widget-view+json": {
       "model_id": "4237fd8488fb471181bd148586eef43c",
       "version_major": 2,
       "version_minor": 0
      },
      "text/plain": [
       "Map:   0%|          | 0/100 [00:00<?, ? examples/s]"
      ]
     },
     "metadata": {},
     "output_type": "display_data"
    }
   ],
   "source": [
    "from torch_snippets import *\n",
    "from src.defect_classification.train import get_datasets, get_dataloaders\n",
    "\n",
    "trn_ds, val_ds = get_datasets(DEBUG=True)\n",
    "trn_dl, val_dl = get_dataloaders(trn_ds, val_ds)\n",
    "\n",
    "model = torch.load('model.pth').cuda().eval()"
   ]
  },
  {
   "cell_type": "code",
   "execution_count": 4,
   "metadata": {
    "id": "ArjchIQRyPQH"
   },
   "outputs": [],
   "source": [
    "results = []\n",
    "for ix, batch in enumerate(iter(trn_dl)):\n",
    "  inter = model.avgpool(model.features(batch[0].cuda()))[:,:,0,0].detach().cpu().numpy()\n",
    "  results.append(inter)\n",
    "results = np.array(results)\n",
    "results = results.reshape(-1, 512)"
   ]
  },
  {
   "cell_type": "code",
   "execution_count": 5,
   "metadata": {
    "id": "XsP9dnYxzcf5"
   },
   "outputs": [],
   "source": [
    "im = val_ds[0]['image'][None].cuda()\n",
    "tmp = np.array(model.avgpool(model.features(im))[0,:,0,0].detach().cpu().numpy())\n",
    "dists1 = np.sum(np.abs(results - tmp), axis=1)"
   ]
  },
  {
   "cell_type": "code",
   "execution_count": 6,
   "metadata": {
    "colab": {
     "base_uri": "https://localhost:8080/"
    },
    "id": "8E9G5LUBxgn1",
    "outputId": "cb9656ee-95b3-4616-8ef3-2f9697f7f441"
   },
   "outputs": [
    {
     "name": "stdout",
     "output_type": "stream",
     "text": [
      "--2024-05-02 17:18:05--  https://as2.ftcdn.net/v2/jpg/01/42/16/37/1000_F_142163797_YxZaY95j5ckLgb6KoM5KC11Eh9QiZsYx.jpg\n",
      "Resolving as2.ftcdn.net (as2.ftcdn.net)... 151.101.1.167, 151.101.65.167, 151.101.129.167, ...\n",
      "Connecting to as2.ftcdn.net (as2.ftcdn.net)|151.101.1.167|:443... connected.\n",
      "HTTP request sent, awaiting response... 200 OK\n",
      "Length: 428083 (418K) [image/jpeg]\n",
      "Saving to: ‘/content/sample_defects.jpg’\n",
      "\n",
      "/content/sample_def 100%[===================>] 418.05K  --.-KB/s    in 0.02s   \n",
      "\n",
      "2024-05-02 17:18:05 (18.2 MB/s) - ‘/content/sample_defects.jpg’ saved [428083/428083]\n",
      "\n"
     ]
    }
   ],
   "source": [
    "path = '/content/sample_defects.jpg'\n",
    "if not os.path.exists(path):\n",
    "  !wget https://as2.ftcdn.net/v2/jpg/01/42/16/37/1000_F_142163797_YxZaY95j5ckLgb6KoM5KC11Eh9QiZsYx.jpg -O /content/sample_defects.jpg\n",
    "\n",
    "im = (cv2.imread(path)[:,:,::-1])\n",
    "im = cv2.resize(im, (224,224))\n",
    "im = torch.tensor(im/255)\n",
    "im = im.permute(2,0,1).float().to(device)\n",
    "im = im.view(1,3,224,224)\n",
    "\n",
    "tmp = np.array(model.avgpool(model.features(im))[0,:,0,0].detach().cpu().numpy())\n",
    "dists2 = np.sum(np.abs(results - tmp), axis=1)"
   ]
  },
  {
   "cell_type": "code",
   "execution_count": 7,
   "metadata": {
    "colab": {
     "base_uri": "https://localhost:8080/",
     "height": 466
    },
    "id": "mlWgkBqDzGCo",
    "outputId": "bd5bfda1-54df-49ae-b19b-afaeae659cc3"
   },
   "outputs": [
    {
     "data": {
      "text/plain": [
       "<Axes: xlabel='distance', ylabel='source'>"
      ]
     },
     "execution_count": 7,
     "metadata": {},
     "output_type": "execute_result"
    },
    {
     "data": {
      "image/png": "[encoded data removed]",
      "text/plain": [
       "<Figure size 640x480 with 1 Axes>"
      ]
     },
     "metadata": {},
     "output_type": "display_data"
    }
   ],
   "source": [
    "import seaborn as sns\n",
    "\n",
    "df = pd.DataFrame(\n",
    "    {'distance': np.r_[dists1, dists2],\n",
    "     'source': ['val image']*len(dists1)+['random image']*len(dists2)})\n",
    "# Just switch x and y\n",
    "sns.boxplot(y=df[\"source\"], x=df[\"distance\"])"
   ]
  },
  {
   "cell_type": "code",
   "execution_count": 7,
   "metadata": {
    "id": "OkydFdAAM3BS"
   },
   "outputs": [],
   "source": []
  }
 ],
 "metadata": {
  "accelerator": "GPU",
  "colab": {
   "gpuType": "T4",
   "provenance": []
  },
  "kernelspec": {
   "display_name": "Python 3 (ipykernel)",
   "language": "python",
   "name": "python3"
  },
  "language_info": {
   "codemirror_mode": {
    "name": "ipython",
    "version": 3
   },
   "file_extension": ".py",
   "mimetype": "text/x-python",
   "name": "python",
   "nbconvert_exporter": "python",
   "pygments_lexer": "ipython3",
   "version": "3.12.2"
  },
  "widgets": {
   "application/vnd.jupyter.widget-state+json": {
    "0932f85b67dd4e369abd2e0893a504b3": {
     "model_module": "@jupyter-widgets/base",
     "model_module_version": "1.2.0",
     "model_name": "LayoutModel",
     "state": {
      "_model_module": "@jupyter-widgets/base",
      "_model_module_version": "1.2.0",
      "_model_name": "LayoutModel",
      "_view_count": null,
      "_view_module": "@jupyter-widgets/base",
      "_view_module_version": "1.2.0",
      "_view_name": "LayoutView",
      "align_content": null,
      "align_items": null,
      "align_self": null,
      "border": null,
      "bottom": null,
      "display": null,
      "flex": null,
      "flex_flow": null,
      "grid_area": null,
      "grid_auto_columns": null,
      "grid_auto_flow": null,
      "grid_auto_rows": null,
      "grid_column": null,
      "grid_gap": null,
      "grid_row": null,
      "grid_template_areas": null,
      "grid_template_columns": null,
      "grid_template_rows": null,
      "height": null,
      "justify_content": null,
      "justify_items": null,
      "left": null,
      "margin": null,
      "max_height": null,
      "max_width": null,
      "min_height": null,
      "min_width": null,
      "object_fit": null,
      "object_position": null,
      "order": null,
      "overflow": null,
      "overflow_x": null,
      "overflow_y": null,
      "padding": null,
      "right": null,
      "top": null,
      "visibility": null,
      "width": null
     }
    },
    "0c3f2351ed7746f4a7d0d4226cf2a27b": {
     "model_module": "@jupyter-widgets/controls",
     "model_module_version": "1.5.0",
     "model_name": "HTMLModel",
     "state": {
      "_dom_classes": [],
      "_model_module": "@jupyter-widgets/controls",
      "_model_module_version": "1.5.0",
      "_model_name": "HTMLModel",
      "_view_count": null,
      "_view_module": "@jupyter-widgets/controls",
      "_view_module_version": "1.5.0",
      "_view_name": "HTMLView",
      "description": "",
      "description_tooltip": null,
      "layout": "IPY_MODEL_6aec8139b57b47a3917f34a57e7410ef",
      "placeholder": "​",
      "style": "IPY_MODEL_d310a959a2a840ddaca9aaeb551054b1",
      "value": " 100/100 [00:16&lt;00:00,  2.29 examples/s]"
     }
    },
    "24f4f53100194a0fb6a36a291daffc59": {
     "model_module": "@jupyter-widgets/controls",
     "model_module_version": "1.5.0",
     "model_name": "FloatProgressModel",
     "state": {
      "_dom_classes": [],
      "_model_module": "@jupyter-widgets/controls",
      "_model_module_version": "1.5.0",
      "_model_name": "FloatProgressModel",
      "_view_count": null,
      "_view_module": "@jupyter-widgets/controls",
      "_view_module_version": "1.5.0",
      "_view_name": "ProgressView",
      "bar_style": "success",
      "description": "",
      "description_tooltip": null,
      "layout": "IPY_MODEL_0932f85b67dd4e369abd2e0893a504b3",
      "max": 100,
      "min": 0,
      "orientation": "horizontal",
      "style": "IPY_MODEL_42b78f526fb84e2fa376b642445b9211",
      "value": 100
     }
    },
    "3843cb0d88fe479ea83169daba4d403f": {
     "model_module": "@jupyter-widgets/base",
     "model_module_version": "1.2.0",
     "model_name": "LayoutModel",
     "state": {
      "_model_module": "@jupyter-widgets/base",
      "_model_module_version": "1.2.0",
      "_model_name": "LayoutModel",
      "_view_count": null,
      "_view_module": "@jupyter-widgets/base",
      "_view_module_version": "1.2.0",
      "_view_name": "LayoutView",
      "align_content": null,
      "align_items": null,
      "align_self": null,
      "border": null,
      "bottom": null,
      "display": null,
      "flex": null,
      "flex_flow": null,
      "grid_area": null,
      "grid_auto_columns": null,
      "grid_auto_flow": null,
      "grid_auto_rows": null,
      "grid_column": null,
      "grid_gap": null,
      "grid_row": null,
      "grid_template_areas": null,
      "grid_template_columns": null,
      "grid_template_rows": null,
      "height": null,
      "justify_content": null,
      "justify_items": null,
      "left": null,
      "margin": null,
      "max_height": null,
      "max_width": null,
      "min_height": null,
      "min_width": null,
      "object_fit": null,
      "object_position": null,
      "order": null,
      "overflow": null,
      "overflow_x": null,
      "overflow_y": null,
      "padding": null,
      "right": null,
      "top": null,
      "visibility": null,
      "width": null
     }
    },
    "3bc21d5749964a9f911526ce7fb1a7a8": {
     "model_module": "@jupyter-widgets/controls",
     "model_module_version": "1.5.0",
     "model_name": "DescriptionStyleModel",
     "state": {
      "_model_module": "@jupyter-widgets/controls",
      "_model_module_version": "1.5.0",
      "_model_name": "DescriptionStyleModel",
      "_view_count": null,
      "_view_module": "@jupyter-widgets/base",
      "_view_module_version": "1.2.0",
      "_view_name": "StyleView",
      "description_width": ""
     }
    },
    "419ee169bfae48c5bdba4962c7964e13": {
     "model_module": "@jupyter-widgets/controls",
     "model_module_version": "1.5.0",
     "model_name": "HTMLModel",
     "state": {
      "_dom_classes": [],
      "_model_module": "@jupyter-widgets/controls",
      "_model_module_version": "1.5.0",
      "_model_name": "HTMLModel",
      "_view_count": null,
      "_view_module": "@jupyter-widgets/controls",
      "_view_module_version": "1.5.0",
      "_view_name": "HTMLView",
      "description": "",
      "description_tooltip": null,
      "layout": "IPY_MODEL_96b4b3c7786c45efa26a68eae1dfb24d",
      "placeholder": "​",
      "style": "IPY_MODEL_ae810e10575549ee871368723b85c1d2",
      "value": " 100/100 [00:22&lt;00:00, 51.49 examples/s]"
     }
    },
    "4237fd8488fb471181bd148586eef43c": {
     "model_module": "@jupyter-widgets/controls",
     "model_module_version": "1.5.0",
     "model_name": "HBoxModel",
     "state": {
      "_dom_classes": [],
      "_model_module": "@jupyter-widgets/controls",
      "_model_module_version": "1.5.0",
      "_model_name": "HBoxModel",
      "_view_count": null,
      "_view_module": "@jupyter-widgets/controls",
      "_view_module_version": "1.5.0",
      "_view_name": "HBoxView",
      "box_style": "",
      "children": [
       "IPY_MODEL_ebc8081e388c4f05b8812d1b3a80e7fe",
       "IPY_MODEL_24f4f53100194a0fb6a36a291daffc59",
       "IPY_MODEL_0c3f2351ed7746f4a7d0d4226cf2a27b"
      ],
      "layout": "IPY_MODEL_c511a5ce62d34523a59f39d2b267d616"
     }
    },
    "42b78f526fb84e2fa376b642445b9211": {
     "model_module": "@jupyter-widgets/controls",
     "model_module_version": "1.5.0",
     "model_name": "ProgressStyleModel",
     "state": {
      "_model_module": "@jupyter-widgets/controls",
      "_model_module_version": "1.5.0",
      "_model_name": "ProgressStyleModel",
      "_view_count": null,
      "_view_module": "@jupyter-widgets/base",
      "_view_module_version": "1.2.0",
      "_view_name": "StyleView",
      "bar_color": null,
      "description_width": ""
     }
    },
    "4eed619956f04b4da005781803e38bf0": {
     "model_module": "@jupyter-widgets/controls",
     "model_module_version": "1.5.0",
     "model_name": "HBoxModel",
     "state": {
      "_dom_classes": [],
      "_model_module": "@jupyter-widgets/controls",
      "_model_module_version": "1.5.0",
      "_model_name": "HBoxModel",
      "_view_count": null,
      "_view_module": "@jupyter-widgets/controls",
      "_view_module_version": "1.5.0",
      "_view_name": "HBoxView",
      "box_style": "",
      "children": [
       "IPY_MODEL_a2fad0c818794610a27610afa04f801c",
       "IPY_MODEL_ddcbb4b3078d407f9dffc5e2391218f7",
       "IPY_MODEL_419ee169bfae48c5bdba4962c7964e13"
      ],
      "layout": "IPY_MODEL_a402f76f77f94f8aada37fccc4112929"
     }
    },
    "4ef37c1e027742f5a50bd2b415986abb": {
     "model_module": "@jupyter-widgets/controls",
     "model_module_version": "1.5.0",
     "model_name": "ProgressStyleModel",
     "state": {
      "_model_module": "@jupyter-widgets/controls",
      "_model_module_version": "1.5.0",
      "_model_name": "ProgressStyleModel",
      "_view_count": null,
      "_view_module": "@jupyter-widgets/base",
      "_view_module_version": "1.2.0",
      "_view_name": "StyleView",
      "bar_color": null,
      "description_width": ""
     }
    },
    "5036cbb8cde64b9d9d5035bf46d33868": {
     "model_module": "@jupyter-widgets/base",
     "model_module_version": "1.2.0",
     "model_name": "LayoutModel",
     "state": {
      "_model_module": "@jupyter-widgets/base",
      "_model_module_version": "1.2.0",
      "_model_name": "LayoutModel",
      "_view_count": null,
      "_view_module": "@jupyter-widgets/base",
      "_view_module_version": "1.2.0",
      "_view_name": "LayoutView",
      "align_content": null,
      "align_items": null,
      "align_self": null,
      "border": null,
      "bottom": null,
      "display": null,
      "flex": null,
      "flex_flow": null,
      "grid_area": null,
      "grid_auto_columns": null,
      "grid_auto_flow": null,
      "grid_auto_rows": null,
      "grid_column": null,
      "grid_gap": null,
      "grid_row": null,
      "grid_template_areas": null,
      "grid_template_columns": null,
      "grid_template_rows": null,
      "height": null,
      "justify_content": null,
      "justify_items": null,
      "left": null,
      "margin": null,
      "max_height": null,
      "max_width": null,
      "min_height": null,
      "min_width": null,
      "object_fit": null,
      "object_position": null,
      "order": null,
      "overflow": null,
      "overflow_x": null,
      "overflow_y": null,
      "padding": null,
      "right": null,
      "top": null,
      "visibility": null,
      "width": null
     }
    },
    "6aec8139b57b47a3917f34a57e7410ef": {
     "model_module": "@jupyter-widgets/base",
     "model_module_version": "1.2.0",
     "model_name": "LayoutModel",
     "state": {
      "_model_module": "@jupyter-widgets/base",
      "_model_module_version": "1.2.0",
      "_model_name": "LayoutModel",
      "_view_count": null,
      "_view_module": "@jupyter-widgets/base",
      "_view_module_version": "1.2.0",
      "_view_name": "LayoutView",
      "align_content": null,
      "align_items": null,
      "align_self": null,
      "border": null,
      "bottom": null,
      "display": null,
      "flex": null,
      "flex_flow": null,
      "grid_area": null,
      "grid_auto_columns": null,
      "grid_auto_flow": null,
      "grid_auto_rows": null,
      "grid_column": null,
      "grid_gap": null,
      "grid_row": null,
      "grid_template_areas": null,
      "grid_template_columns": null,
      "grid_template_rows": null,
      "height": null,
      "justify_content": null,
      "justify_items": null,
      "left": null,
      "margin": null,
      "max_height": null,
      "max_width": null,
      "min_height": null,
      "min_width": null,
      "object_fit": null,
      "object_position": null,
      "order": null,
      "overflow": null,
      "overflow_x": null,
      "overflow_y": null,
      "padding": null,
      "right": null,
      "top": null,
      "visibility": null,
      "width": null
     }
    },
    "96b4b3c7786c45efa26a68eae1dfb24d": {
     "model_module": "@jupyter-widgets/base",
     "model_module_version": "1.2.0",
     "model_name": "LayoutModel",
     "state": {
      "_model_module": "@jupyter-widgets/base",
      "_model_module_version": "1.2.0",
      "_model_name": "LayoutModel",
      "_view_count": null,
      "_view_module": "@jupyter-widgets/base",
      "_view_module_version": "1.2.0",
      "_view_name": "LayoutView",
      "align_content": null,
      "align_items": null,
      "align_self": null,
      "border": null,
      "bottom": null,
      "display": null,
      "flex": null,
      "flex_flow": null,
      "grid_area": null,
      "grid_auto_columns": null,
      "grid_auto_flow": null,
      "grid_auto_rows": null,
      "grid_column": null,
      "grid_gap": null,
      "grid_row": null,
      "grid_template_areas": null,
      "grid_template_columns": null,
      "grid_template_rows": null,
      "height": null,
      "justify_content": null,
      "justify_items": null,
      "left": null,
      "margin": null,
      "max_height": null,
      "max_width": null,
      "min_height": null,
      "min_width": null,
      "object_fit": null,
      "object_position": null,
      "order": null,
      "overflow": null,
      "overflow_x": null,
      "overflow_y": null,
      "padding": null,
      "right": null,
      "top": null,
      "visibility": null,
      "width": null
     }
    },
    "a2fad0c818794610a27610afa04f801c": {
     "model_module": "@jupyter-widgets/controls",
     "model_module_version": "1.5.0",
     "model_name": "HTMLModel",
     "state": {
      "_dom_classes": [],
      "_model_module": "@jupyter-widgets/controls",
      "_model_module_version": "1.5.0",
      "_model_name": "HTMLModel",
      "_view_count": null,
      "_view_module": "@jupyter-widgets/controls",
      "_view_module_version": "1.5.0",
      "_view_name": "HTMLView",
      "description": "",
      "description_tooltip": null,
      "layout": "IPY_MODEL_5036cbb8cde64b9d9d5035bf46d33868",
      "placeholder": "​",
      "style": "IPY_MODEL_e7fbfc2a8deb434a8ef3d1113cf9ef5a",
      "value": "Map: 100%"
     }
    },
    "a402f76f77f94f8aada37fccc4112929": {
     "model_module": "@jupyter-widgets/base",
     "model_module_version": "1.2.0",
     "model_name": "LayoutModel",
     "state": {
      "_model_module": "@jupyter-widgets/base",
      "_model_module_version": "1.2.0",
      "_model_name": "LayoutModel",
      "_view_count": null,
      "_view_module": "@jupyter-widgets/base",
      "_view_module_version": "1.2.0",
      "_view_name": "LayoutView",
      "align_content": null,
      "align_items": null,
      "align_self": null,
      "border": null,
      "bottom": null,
      "display": null,
      "flex": null,
      "flex_flow": null,
      "grid_area": null,
      "grid_auto_columns": null,
      "grid_auto_flow": null,
      "grid_auto_rows": null,
      "grid_column": null,
      "grid_gap": null,
      "grid_row": null,
      "grid_template_areas": null,
      "grid_template_columns": null,
      "grid_template_rows": null,
      "height": null,
      "justify_content": null,
      "justify_items": null,
      "left": null,
      "margin": null,
      "max_height": null,
      "max_width": null,
      "min_height": null,
      "min_width": null,
      "object_fit": null,
      "object_position": null,
      "order": null,
      "overflow": null,
      "overflow_x": null,
      "overflow_y": null,
      "padding": null,
      "right": null,
      "top": null,
      "visibility": null,
      "width": null
     }
    },
    "ae810e10575549ee871368723b85c1d2": {
     "model_module": "@jupyter-widgets/controls",
     "model_module_version": "1.5.0",
     "model_name": "DescriptionStyleModel",
     "state": {
      "_model_module": "@jupyter-widgets/controls",
      "_model_module_version": "1.5.0",
      "_model_name": "DescriptionStyleModel",
      "_view_count": null,
      "_view_module": "@jupyter-widgets/base",
      "_view_module_version": "1.2.0",
      "_view_name": "StyleView",
      "description_width": ""
     }
    },
    "c511a5ce62d34523a59f39d2b267d616": {
     "model_module": "@jupyter-widgets/base",
     "model_module_version": "1.2.0",
     "model_name": "LayoutModel",
     "state": {
      "_model_module": "@jupyter-widgets/base",
      "_model_module_version": "1.2.0",
      "_model_name": "LayoutModel",
      "_view_count": null,
      "_view_module": "@jupyter-widgets/base",
      "_view_module_version": "1.2.0",
      "_view_name": "LayoutView",
      "align_content": null,
      "align_items": null,
      "align_self": null,
      "border": null,
      "bottom": null,
      "display": null,
      "flex": null,
      "flex_flow": null,
      "grid_area": null,
      "grid_auto_columns": null,
      "grid_auto_flow": null,
      "grid_auto_rows": null,
      "grid_column": null,
      "grid_gap": null,
      "grid_row": null,
      "grid_template_areas": null,
      "grid_template_columns": null,
      "grid_template_rows": null,
      "height": null,
      "justify_content": null,
      "justify_items": null,
      "left": null,
      "margin": null,
      "max_height": null,
      "max_width": null,
      "min_height": null,
      "min_width": null,
      "object_fit": null,
      "object_position": null,
      "order": null,
      "overflow": null,
      "overflow_x": null,
      "overflow_y": null,
      "padding": null,
      "right": null,
      "top": null,
      "visibility": null,
      "width": null
     }
    },
    "c5c22cc56f094a4e9bba817c0047efeb": {
     "model_module": "@jupyter-widgets/base",
     "model_module_version": "1.2.0",
     "model_name": "LayoutModel",
     "state": {
      "_model_module": "@jupyter-widgets/base",
      "_model_module_version": "1.2.0",
      "_model_name": "LayoutModel",
      "_view_count": null,
      "_view_module": "@jupyter-widgets/base",
      "_view_module_version": "1.2.0",
      "_view_name": "LayoutView",
      "align_content": null,
      "align_items": null,
      "align_self": null,
      "border": null,
      "bottom": null,
      "display": null,
      "flex": null,
      "flex_flow": null,
      "grid_area": null,
      "grid_auto_columns": null,
      "grid_auto_flow": null,
      "grid_auto_rows": null,
      "grid_column": null,
      "grid_gap": null,
      "grid_row": null,
      "grid_template_areas": null,
      "grid_template_columns": null,
      "grid_template_rows": null,
      "height": null,
      "justify_content": null,
      "justify_items": null,
      "left": null,
      "margin": null,
      "max_height": null,
      "max_width": null,
      "min_height": null,
      "min_width": null,
      "object_fit": null,
      "object_position": null,
      "order": null,
      "overflow": null,
      "overflow_x": null,
      "overflow_y": null,
      "padding": null,
      "right": null,
      "top": null,
      "visibility": null,
      "width": null
     }
    },
    "d310a959a2a840ddaca9aaeb551054b1": {
     "model_module": "@jupyter-widgets/controls",
     "model_module_version": "1.5.0",
     "model_name": "DescriptionStyleModel",
     "state": {
      "_model_module": "@jupyter-widgets/controls",
      "_model_module_version": "1.5.0",
      "_model_name": "DescriptionStyleModel",
      "_view_count": null,
      "_view_module": "@jupyter-widgets/base",
      "_view_module_version": "1.2.0",
      "_view_name": "StyleView",
      "description_width": ""
     }
    },
    "ddcbb4b3078d407f9dffc5e2391218f7": {
     "model_module": "@jupyter-widgets/controls",
     "model_module_version": "1.5.0",
     "model_name": "FloatProgressModel",
     "state": {
      "_dom_classes": [],
      "_model_module": "@jupyter-widgets/controls",
      "_model_module_version": "1.5.0",
      "_model_name": "FloatProgressModel",
      "_view_count": null,
      "_view_module": "@jupyter-widgets/controls",
      "_view_module_version": "1.5.0",
      "_view_name": "ProgressView",
      "bar_style": "success",
      "description": "",
      "description_tooltip": null,
      "layout": "IPY_MODEL_c5c22cc56f094a4e9bba817c0047efeb",
      "max": 100,
      "min": 0,
      "orientation": "horizontal",
      "style": "IPY_MODEL_4ef37c1e027742f5a50bd2b415986abb",
      "value": 100
     }
    },
    "e7fbfc2a8deb434a8ef3d1113cf9ef5a": {
     "model_module": "@jupyter-widgets/controls",
     "model_module_version": "1.5.0",
     "model_name": "DescriptionStyleModel",
     "state": {
      "_model_module": "@jupyter-widgets/controls",
      "_model_module_version": "1.5.0",
      "_model_name": "DescriptionStyleModel",
      "_view_count": null,
      "_view_module": "@jupyter-widgets/base",
      "_view_module_version": "1.2.0",
      "_view_name": "StyleView",
      "description_width": ""
     }
    },
    "ebc8081e388c4f05b8812d1b3a80e7fe": {
     "model_module": "@jupyter-widgets/controls",
     "model_module_version": "1.5.0",
     "model_name": "HTMLModel",
     "state": {
      "_dom_classes": [],
      "_model_module": "@jupyter-widgets/controls",
      "_model_module_version": "1.5.0",
      "_model_name": "HTMLModel",
      "_view_count": null,
      "_view_module": "@jupyter-widgets/controls",
      "_view_module_version": "1.5.0",
      "_view_name": "HTMLView",
      "description": "",
      "description_tooltip": null,
      "layout": "IPY_MODEL_3843cb0d88fe479ea83169daba4d403f",
      "placeholder": "​",
      "style": "IPY_MODEL_3bc21d5749964a9f911526ce7fb1a7a8",
      "value": "Map: 100%"
     }
    }
   }
  }
 },
 "nbformat": 4,
 "nbformat_minor": 4
}
