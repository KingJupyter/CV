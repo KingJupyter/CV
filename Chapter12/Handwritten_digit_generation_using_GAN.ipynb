{
  "nbformat": 4,
  "nbformat_minor": 0,
  "metadata": {
    "colab": {
      "name": "Handwritten_digit_generation_using_GAN.ipynb",
      "provenance": [],
      "collapsed_sections": [],
      "include_colab_link": true
    },
    "kernelspec": {
      "name": "python3",
      "display_name": "Python 3"
    },
    "accelerator": "GPU",
    "widgets": {
      "application/vnd.jupyter.widget-state+json": {
        "3c03a5f4f4554219aecd4ce257cf4e11": {
          "model_module": "@jupyter-widgets/controls",
          "model_name": "HBoxModel",
          "state": {
            "_view_name": "HBoxView",
            "_dom_classes": [],
            "_model_name": "HBoxModel",
            "_view_module": "@jupyter-widgets/controls",
            "_model_module_version": "1.5.0",
            "_view_count": null,
            "_view_module_version": "1.5.0",
            "box_style": "",
            "layout": "IPY_MODEL_4f27e1e7e2604e0a9054b52205bbd9a8",
            "_model_module": "@jupyter-widgets/controls",
            "children": [
              "IPY_MODEL_857619683bd24bbcb0b503d9b63eafbd",
              "IPY_MODEL_ccc443795e744c008b8d225649108f4b"
            ]
          }
        },
        "4f27e1e7e2604e0a9054b52205bbd9a8": {
          "model_module": "@jupyter-widgets/base",
          "model_name": "LayoutModel",
          "state": {
            "_view_name": "LayoutView",
            "grid_template_rows": null,
            "right": null,
            "justify_content": null,
            "_view_module": "@jupyter-widgets/base",
            "overflow": null,
            "_model_module_version": "1.2.0",
            "_view_count": null,
            "flex_flow": null,
            "width": null,
            "min_width": null,
            "border": null,
            "align_items": null,
            "bottom": null,
            "_model_module": "@jupyter-widgets/base",
            "top": null,
            "grid_column": null,
            "overflow_y": null,
            "overflow_x": null,
            "grid_auto_flow": null,
            "grid_area": null,
            "grid_template_columns": null,
            "flex": null,
            "_model_name": "LayoutModel",
            "justify_items": null,
            "grid_row": null,
            "max_height": null,
            "align_content": null,
            "visibility": null,
            "align_self": null,
            "height": null,
            "min_height": null,
            "padding": null,
            "grid_auto_rows": null,
            "grid_gap": null,
            "max_width": null,
            "order": null,
            "_view_module_version": "1.2.0",
            "grid_template_areas": null,
            "object_position": null,
            "object_fit": null,
            "grid_auto_columns": null,
            "margin": null,
            "display": null,
            "left": null
          }
        },
        "857619683bd24bbcb0b503d9b63eafbd": {
          "model_module": "@jupyter-widgets/controls",
          "model_name": "FloatProgressModel",
          "state": {
            "_view_name": "ProgressView",
            "style": "IPY_MODEL_46992055967e4fe3bddb52431b01e5b4",
            "_dom_classes": [],
            "description": "",
            "_model_name": "FloatProgressModel",
            "bar_style": "info",
            "max": 1,
            "_view_module": "@jupyter-widgets/controls",
            "_model_module_version": "1.5.0",
            "value": 1,
            "_view_count": null,
            "_view_module_version": "1.5.0",
            "orientation": "horizontal",
            "min": 0,
            "description_tooltip": null,
            "_model_module": "@jupyter-widgets/controls",
            "layout": "IPY_MODEL_31e501cd4e4d499a94a88ebf45da3b65"
          }
        },
        "ccc443795e744c008b8d225649108f4b": {
          "model_module": "@jupyter-widgets/controls",
          "model_name": "HTMLModel",
          "state": {
            "_view_name": "HTMLView",
            "style": "IPY_MODEL_4de9b6cfafce41388e0222a4389aa4c3",
            "_dom_classes": [],
            "description": "",
            "_model_name": "HTMLModel",
            "placeholder": "​",
            "_view_module": "@jupyter-widgets/controls",
            "_model_module_version": "1.5.0",
            "value": " 9920512/? [00:20&lt;00:00, 837167.06it/s]",
            "_view_count": null,
            "_view_module_version": "1.5.0",
            "description_tooltip": null,
            "_model_module": "@jupyter-widgets/controls",
            "layout": "IPY_MODEL_ee6c21ba6a8a4401b85a6388515d5891"
          }
        },
        "46992055967e4fe3bddb52431b01e5b4": {
          "model_module": "@jupyter-widgets/controls",
          "model_name": "ProgressStyleModel",
          "state": {
            "_view_name": "StyleView",
            "_model_name": "ProgressStyleModel",
            "description_width": "initial",
            "_view_module": "@jupyter-widgets/base",
            "_model_module_version": "1.5.0",
            "_view_count": null,
            "_view_module_version": "1.2.0",
            "bar_color": null,
            "_model_module": "@jupyter-widgets/controls"
          }
        },
        "31e501cd4e4d499a94a88ebf45da3b65": {
          "model_module": "@jupyter-widgets/base",
          "model_name": "LayoutModel",
          "state": {
            "_view_name": "LayoutView",
            "grid_template_rows": null,
            "right": null,
            "justify_content": null,
            "_view_module": "@jupyter-widgets/base",
            "overflow": null,
            "_model_module_version": "1.2.0",
            "_view_count": null,
            "flex_flow": null,
            "width": null,
            "min_width": null,
            "border": null,
            "align_items": null,
            "bottom": null,
            "_model_module": "@jupyter-widgets/base",
            "top": null,
            "grid_column": null,
            "overflow_y": null,
            "overflow_x": null,
            "grid_auto_flow": null,
            "grid_area": null,
            "grid_template_columns": null,
            "flex": null,
            "_model_name": "LayoutModel",
            "justify_items": null,
            "grid_row": null,
            "max_height": null,
            "align_content": null,
            "visibility": null,
            "align_self": null,
            "height": null,
            "min_height": null,
            "padding": null,
            "grid_auto_rows": null,
            "grid_gap": null,
            "max_width": null,
            "order": null,
            "_view_module_version": "1.2.0",
            "grid_template_areas": null,
            "object_position": null,
            "object_fit": null,
            "grid_auto_columns": null,
            "margin": null,
            "display": null,
            "left": null
          }
        },
        "4de9b6cfafce41388e0222a4389aa4c3": {
          "model_module": "@jupyter-widgets/controls",
          "model_name": "DescriptionStyleModel",
          "state": {
            "_view_name": "StyleView",
            "_model_name": "DescriptionStyleModel",
            "description_width": "",
            "_view_module": "@jupyter-widgets/base",
            "_model_module_version": "1.5.0",
            "_view_count": null,
            "_view_module_version": "1.2.0",
            "_model_module": "@jupyter-widgets/controls"
          }
        },
        "ee6c21ba6a8a4401b85a6388515d5891": {
          "model_module": "@jupyter-widgets/base",
          "model_name": "LayoutModel",
          "state": {
            "_view_name": "LayoutView",
            "grid_template_rows": null,
            "right": null,
            "justify_content": null,
            "_view_module": "@jupyter-widgets/base",
            "overflow": null,
            "_model_module_version": "1.2.0",
            "_view_count": null,
            "flex_flow": null,
            "width": null,
            "min_width": null,
            "border": null,
            "align_items": null,
            "bottom": null,
            "_model_module": "@jupyter-widgets/base",
            "top": null,
            "grid_column": null,
            "overflow_y": null,
            "overflow_x": null,
            "grid_auto_flow": null,
            "grid_area": null,
            "grid_template_columns": null,
            "flex": null,
            "_model_name": "LayoutModel",
            "justify_items": null,
            "grid_row": null,
            "max_height": null,
            "align_content": null,
            "visibility": null,
            "align_self": null,
            "height": null,
            "min_height": null,
            "padding": null,
            "grid_auto_rows": null,
            "grid_gap": null,
            "max_width": null,
            "order": null,
            "_view_module_version": "1.2.0",
            "grid_template_areas": null,
            "object_position": null,
            "object_fit": null,
            "grid_auto_columns": null,
            "margin": null,
            "display": null,
            "left": null
          }
        },
        "dd7b5f56812646e998bff1786e4b4493": {
          "model_module": "@jupyter-widgets/controls",
          "model_name": "HBoxModel",
          "state": {
            "_view_name": "HBoxView",
            "_dom_classes": [],
            "_model_name": "HBoxModel",
            "_view_module": "@jupyter-widgets/controls",
            "_model_module_version": "1.5.0",
            "_view_count": null,
            "_view_module_version": "1.5.0",
            "box_style": "",
            "layout": "IPY_MODEL_b1a468fff5a448dd829cfb64ee4be2a6",
            "_model_module": "@jupyter-widgets/controls",
            "children": [
              "IPY_MODEL_c25265001c944071a64c6f9a2a0c76f3",
              "IPY_MODEL_76c282ff6b5241ffa4b92c781465ec9d"
            ]
          }
        },
        "b1a468fff5a448dd829cfb64ee4be2a6": {
          "model_module": "@jupyter-widgets/base",
          "model_name": "LayoutModel",
          "state": {
            "_view_name": "LayoutView",
            "grid_template_rows": null,
            "right": null,
            "justify_content": null,
            "_view_module": "@jupyter-widgets/base",
            "overflow": null,
            "_model_module_version": "1.2.0",
            "_view_count": null,
            "flex_flow": null,
            "width": null,
            "min_width": null,
            "border": null,
            "align_items": null,
            "bottom": null,
            "_model_module": "@jupyter-widgets/base",
            "top": null,
            "grid_column": null,
            "overflow_y": null,
            "overflow_x": null,
            "grid_auto_flow": null,
            "grid_area": null,
            "grid_template_columns": null,
            "flex": null,
            "_model_name": "LayoutModel",
            "justify_items": null,
            "grid_row": null,
            "max_height": null,
            "align_content": null,
            "visibility": null,
            "align_self": null,
            "height": null,
            "min_height": null,
            "padding": null,
            "grid_auto_rows": null,
            "grid_gap": null,
            "max_width": null,
            "order": null,
            "_view_module_version": "1.2.0",
            "grid_template_areas": null,
            "object_position": null,
            "object_fit": null,
            "grid_auto_columns": null,
            "margin": null,
            "display": null,
            "left": null
          }
        },
        "c25265001c944071a64c6f9a2a0c76f3": {
          "model_module": "@jupyter-widgets/controls",
          "model_name": "FloatProgressModel",
          "state": {
            "_view_name": "ProgressView",
            "style": "IPY_MODEL_630c97142a0c41dea82b043a75fcba3f",
            "_dom_classes": [],
            "description": "",
            "_model_name": "FloatProgressModel",
            "bar_style": "success",
            "max": 1,
            "_view_module": "@jupyter-widgets/controls",
            "_model_module_version": "1.5.0",
            "value": 1,
            "_view_count": null,
            "_view_module_version": "1.5.0",
            "orientation": "horizontal",
            "min": 0,
            "description_tooltip": null,
            "_model_module": "@jupyter-widgets/controls",
            "layout": "IPY_MODEL_ae5dd05c5f5c4b3b939780c117c931a8"
          }
        },
        "76c282ff6b5241ffa4b92c781465ec9d": {
          "model_module": "@jupyter-widgets/controls",
          "model_name": "HTMLModel",
          "state": {
            "_view_name": "HTMLView",
            "style": "IPY_MODEL_a5184bf4dddd447cae29cac1945eb609",
            "_dom_classes": [],
            "description": "",
            "_model_name": "HTMLModel",
            "placeholder": "​",
            "_view_module": "@jupyter-widgets/controls",
            "_model_module_version": "1.5.0",
            "value": " 32768/? [00:00&lt;00:00, 118069.33it/s]",
            "_view_count": null,
            "_view_module_version": "1.5.0",
            "description_tooltip": null,
            "_model_module": "@jupyter-widgets/controls",
            "layout": "IPY_MODEL_5b8ce28d5cd64cc2bc5ef2c375e96dd4"
          }
        },
        "630c97142a0c41dea82b043a75fcba3f": {
          "model_module": "@jupyter-widgets/controls",
          "model_name": "ProgressStyleModel",
          "state": {
            "_view_name": "StyleView",
            "_model_name": "ProgressStyleModel",
            "description_width": "initial",
            "_view_module": "@jupyter-widgets/base",
            "_model_module_version": "1.5.0",
            "_view_count": null,
            "_view_module_version": "1.2.0",
            "bar_color": null,
            "_model_module": "@jupyter-widgets/controls"
          }
        },
        "ae5dd05c5f5c4b3b939780c117c931a8": {
          "model_module": "@jupyter-widgets/base",
          "model_name": "LayoutModel",
          "state": {
            "_view_name": "LayoutView",
            "grid_template_rows": null,
            "right": null,
            "justify_content": null,
            "_view_module": "@jupyter-widgets/base",
            "overflow": null,
            "_model_module_version": "1.2.0",
            "_view_count": null,
            "flex_flow": null,
            "width": null,
            "min_width": null,
            "border": null,
            "align_items": null,
            "bottom": null,
            "_model_module": "@jupyter-widgets/base",
            "top": null,
            "grid_column": null,
            "overflow_y": null,
            "overflow_x": null,
            "grid_auto_flow": null,
            "grid_area": null,
            "grid_template_columns": null,
            "flex": null,
            "_model_name": "LayoutModel",
            "justify_items": null,
            "grid_row": null,
            "max_height": null,
            "align_content": null,
            "visibility": null,
            "align_self": null,
            "height": null,
            "min_height": null,
            "padding": null,
            "grid_auto_rows": null,
            "grid_gap": null,
            "max_width": null,
            "order": null,
            "_view_module_version": "1.2.0",
            "grid_template_areas": null,
            "object_position": null,
            "object_fit": null,
            "grid_auto_columns": null,
            "margin": null,
            "display": null,
            "left": null
          }
        },
        "a5184bf4dddd447cae29cac1945eb609": {
          "model_module": "@jupyter-widgets/controls",
          "model_name": "DescriptionStyleModel",
          "state": {
            "_view_name": "StyleView",
            "_model_name": "DescriptionStyleModel",
            "description_width": "",
            "_view_module": "@jupyter-widgets/base",
            "_model_module_version": "1.5.0",
            "_view_count": null,
            "_view_module_version": "1.2.0",
            "_model_module": "@jupyter-widgets/controls"
          }
        },
        "5b8ce28d5cd64cc2bc5ef2c375e96dd4": {
          "model_module": "@jupyter-widgets/base",
          "model_name": "LayoutModel",
          "state": {
            "_view_name": "LayoutView",
            "grid_template_rows": null,
            "right": null,
            "justify_content": null,
            "_view_module": "@jupyter-widgets/base",
            "overflow": null,
            "_model_module_version": "1.2.0",
            "_view_count": null,
            "flex_flow": null,
            "width": null,
            "min_width": null,
            "border": null,
            "align_items": null,
            "bottom": null,
            "_model_module": "@jupyter-widgets/base",
            "top": null,
            "grid_column": null,
            "overflow_y": null,
            "overflow_x": null,
            "grid_auto_flow": null,
            "grid_area": null,
            "grid_template_columns": null,
            "flex": null,
            "_model_name": "LayoutModel",
            "justify_items": null,
            "grid_row": null,
            "max_height": null,
            "align_content": null,
            "visibility": null,
            "align_self": null,
            "height": null,
            "min_height": null,
            "padding": null,
            "grid_auto_rows": null,
            "grid_gap": null,
            "max_width": null,
            "order": null,
            "_view_module_version": "1.2.0",
            "grid_template_areas": null,
            "object_position": null,
            "object_fit": null,
            "grid_auto_columns": null,
            "margin": null,
            "display": null,
            "left": null
          }
        },
        "64a0afdfc8784130a09ed7fb06914543": {
          "model_module": "@jupyter-widgets/controls",
          "model_name": "HBoxModel",
          "state": {
            "_view_name": "HBoxView",
            "_dom_classes": [],
            "_model_name": "HBoxModel",
            "_view_module": "@jupyter-widgets/controls",
            "_model_module_version": "1.5.0",
            "_view_count": null,
            "_view_module_version": "1.5.0",
            "box_style": "",
            "layout": "IPY_MODEL_049ff360c2714c57851caedf8758888c",
            "_model_module": "@jupyter-widgets/controls",
            "children": [
              "IPY_MODEL_3f2ea414e2534f298b8c9bbc637abab4",
              "IPY_MODEL_c2f686984f824f3992f4631a7c2e75a4"
            ]
          }
        },
        "049ff360c2714c57851caedf8758888c": {
          "model_module": "@jupyter-widgets/base",
          "model_name": "LayoutModel",
          "state": {
            "_view_name": "LayoutView",
            "grid_template_rows": null,
            "right": null,
            "justify_content": null,
            "_view_module": "@jupyter-widgets/base",
            "overflow": null,
            "_model_module_version": "1.2.0",
            "_view_count": null,
            "flex_flow": null,
            "width": null,
            "min_width": null,
            "border": null,
            "align_items": null,
            "bottom": null,
            "_model_module": "@jupyter-widgets/base",
            "top": null,
            "grid_column": null,
            "overflow_y": null,
            "overflow_x": null,
            "grid_auto_flow": null,
            "grid_area": null,
            "grid_template_columns": null,
            "flex": null,
            "_model_name": "LayoutModel",
            "justify_items": null,
            "grid_row": null,
            "max_height": null,
            "align_content": null,
            "visibility": null,
            "align_self": null,
            "height": null,
            "min_height": null,
            "padding": null,
            "grid_auto_rows": null,
            "grid_gap": null,
            "max_width": null,
            "order": null,
            "_view_module_version": "1.2.0",
            "grid_template_areas": null,
            "object_position": null,
            "object_fit": null,
            "grid_auto_columns": null,
            "margin": null,
            "display": null,
            "left": null
          }
        },
        "3f2ea414e2534f298b8c9bbc637abab4": {
          "model_module": "@jupyter-widgets/controls",
          "model_name": "FloatProgressModel",
          "state": {
            "_view_name": "ProgressView",
            "style": "IPY_MODEL_e1f1e18a57bf4852ac3391dcd490b81a",
            "_dom_classes": [],
            "description": "",
            "_model_name": "FloatProgressModel",
            "bar_style": "info",
            "max": 1,
            "_view_module": "@jupyter-widgets/controls",
            "_model_module_version": "1.5.0",
            "value": 1,
            "_view_count": null,
            "_view_module_version": "1.5.0",
            "orientation": "horizontal",
            "min": 0,
            "description_tooltip": null,
            "_model_module": "@jupyter-widgets/controls",
            "layout": "IPY_MODEL_d83f7248cc6648209203389da074937f"
          }
        },
        "c2f686984f824f3992f4631a7c2e75a4": {
          "model_module": "@jupyter-widgets/controls",
          "model_name": "HTMLModel",
          "state": {
            "_view_name": "HTMLView",
            "style": "IPY_MODEL_7ff3ce0d83304bac9c926fff17ef6b4e",
            "_dom_classes": [],
            "description": "",
            "_model_name": "HTMLModel",
            "placeholder": "​",
            "_view_module": "@jupyter-widgets/controls",
            "_model_module_version": "1.5.0",
            "value": " 1654784/? [00:18&lt;00:00, 529006.54it/s]",
            "_view_count": null,
            "_view_module_version": "1.5.0",
            "description_tooltip": null,
            "_model_module": "@jupyter-widgets/controls",
            "layout": "IPY_MODEL_38b9cd35415f470cb545afe0e7afc9d0"
          }
        },
        "e1f1e18a57bf4852ac3391dcd490b81a": {
          "model_module": "@jupyter-widgets/controls",
          "model_name": "ProgressStyleModel",
          "state": {
            "_view_name": "StyleView",
            "_model_name": "ProgressStyleModel",
            "description_width": "initial",
            "_view_module": "@jupyter-widgets/base",
            "_model_module_version": "1.5.0",
            "_view_count": null,
            "_view_module_version": "1.2.0",
            "bar_color": null,
            "_model_module": "@jupyter-widgets/controls"
          }
        },
        "d83f7248cc6648209203389da074937f": {
          "model_module": "@jupyter-widgets/base",
          "model_name": "LayoutModel",
          "state": {
            "_view_name": "LayoutView",
            "grid_template_rows": null,
            "right": null,
            "justify_content": null,
            "_view_module": "@jupyter-widgets/base",
            "overflow": null,
            "_model_module_version": "1.2.0",
            "_view_count": null,
            "flex_flow": null,
            "width": null,
            "min_width": null,
            "border": null,
            "align_items": null,
            "bottom": null,
            "_model_module": "@jupyter-widgets/base",
            "top": null,
            "grid_column": null,
            "overflow_y": null,
            "overflow_x": null,
            "grid_auto_flow": null,
            "grid_area": null,
            "grid_template_columns": null,
            "flex": null,
            "_model_name": "LayoutModel",
            "justify_items": null,
            "grid_row": null,
            "max_height": null,
            "align_content": null,
            "visibility": null,
            "align_self": null,
            "height": null,
            "min_height": null,
            "padding": null,
            "grid_auto_rows": null,
            "grid_gap": null,
            "max_width": null,
            "order": null,
            "_view_module_version": "1.2.0",
            "grid_template_areas": null,
            "object_position": null,
            "object_fit": null,
            "grid_auto_columns": null,
            "margin": null,
            "display": null,
            "left": null
          }
        },
        "7ff3ce0d83304bac9c926fff17ef6b4e": {
          "model_module": "@jupyter-widgets/controls",
          "model_name": "DescriptionStyleModel",
          "state": {
            "_view_name": "StyleView",
            "_model_name": "DescriptionStyleModel",
            "description_width": "",
            "_view_module": "@jupyter-widgets/base",
            "_model_module_version": "1.5.0",
            "_view_count": null,
            "_view_module_version": "1.2.0",
            "_model_module": "@jupyter-widgets/controls"
          }
        },
        "38b9cd35415f470cb545afe0e7afc9d0": {
          "model_module": "@jupyter-widgets/base",
          "model_name": "LayoutModel",
          "state": {
            "_view_name": "LayoutView",
            "grid_template_rows": null,
            "right": null,
            "justify_content": null,
            "_view_module": "@jupyter-widgets/base",
            "overflow": null,
            "_model_module_version": "1.2.0",
            "_view_count": null,
            "flex_flow": null,
            "width": null,
            "min_width": null,
            "border": null,
            "align_items": null,
            "bottom": null,
            "_model_module": "@jupyter-widgets/base",
            "top": null,
            "grid_column": null,
            "overflow_y": null,
            "overflow_x": null,
            "grid_auto_flow": null,
            "grid_area": null,
            "grid_template_columns": null,
            "flex": null,
            "_model_name": "LayoutModel",
            "justify_items": null,
            "grid_row": null,
            "max_height": null,
            "align_content": null,
            "visibility": null,
            "align_self": null,
            "height": null,
            "min_height": null,
            "padding": null,
            "grid_auto_rows": null,
            "grid_gap": null,
            "max_width": null,
            "order": null,
            "_view_module_version": "1.2.0",
            "grid_template_areas": null,
            "object_position": null,
            "object_fit": null,
            "grid_auto_columns": null,
            "margin": null,
            "display": null,
            "left": null
          }
        },
        "880e0b379a4546b2be474ed3c8237150": {
          "model_module": "@jupyter-widgets/controls",
          "model_name": "HBoxModel",
          "state": {
            "_view_name": "HBoxView",
            "_dom_classes": [],
            "_model_name": "HBoxModel",
            "_view_module": "@jupyter-widgets/controls",
            "_model_module_version": "1.5.0",
            "_view_count": null,
            "_view_module_version": "1.5.0",
            "box_style": "",
            "layout": "IPY_MODEL_52fa50e8b63a4c2dadc15c201d04aa53",
            "_model_module": "@jupyter-widgets/controls",
            "children": [
              "IPY_MODEL_037913eb438a4c75b5fdcd9329a8b491",
              "IPY_MODEL_82b047620ea04b2dae946e95d73b1072"
            ]
          }
        },
        "52fa50e8b63a4c2dadc15c201d04aa53": {
          "model_module": "@jupyter-widgets/base",
          "model_name": "LayoutModel",
          "state": {
            "_view_name": "LayoutView",
            "grid_template_rows": null,
            "right": null,
            "justify_content": null,
            "_view_module": "@jupyter-widgets/base",
            "overflow": null,
            "_model_module_version": "1.2.0",
            "_view_count": null,
            "flex_flow": null,
            "width": null,
            "min_width": null,
            "border": null,
            "align_items": null,
            "bottom": null,
            "_model_module": "@jupyter-widgets/base",
            "top": null,
            "grid_column": null,
            "overflow_y": null,
            "overflow_x": null,
            "grid_auto_flow": null,
            "grid_area": null,
            "grid_template_columns": null,
            "flex": null,
            "_model_name": "LayoutModel",
            "justify_items": null,
            "grid_row": null,
            "max_height": null,
            "align_content": null,
            "visibility": null,
            "align_self": null,
            "height": null,
            "min_height": null,
            "padding": null,
            "grid_auto_rows": null,
            "grid_gap": null,
            "max_width": null,
            "order": null,
            "_view_module_version": "1.2.0",
            "grid_template_areas": null,
            "object_position": null,
            "object_fit": null,
            "grid_auto_columns": null,
            "margin": null,
            "display": null,
            "left": null
          }
        },
        "037913eb438a4c75b5fdcd9329a8b491": {
          "model_module": "@jupyter-widgets/controls",
          "model_name": "FloatProgressModel",
          "state": {
            "_view_name": "ProgressView",
            "style": "IPY_MODEL_01c2b4d72feb4e06a084500efc4e48d3",
            "_dom_classes": [],
            "description": "",
            "_model_name": "FloatProgressModel",
            "bar_style": "success",
            "max": 1,
            "_view_module": "@jupyter-widgets/controls",
            "_model_module_version": "1.5.0",
            "value": 1,
            "_view_count": null,
            "_view_module_version": "1.5.0",
            "orientation": "horizontal",
            "min": 0,
            "description_tooltip": null,
            "_model_module": "@jupyter-widgets/controls",
            "layout": "IPY_MODEL_0c6ccc57d26a49278163d29cb6438b83"
          }
        },
        "82b047620ea04b2dae946e95d73b1072": {
          "model_module": "@jupyter-widgets/controls",
          "model_name": "HTMLModel",
          "state": {
            "_view_name": "HTMLView",
            "style": "IPY_MODEL_e2aeabc9e02549c7b5ab77a96842ca9f",
            "_dom_classes": [],
            "description": "",
            "_model_name": "HTMLModel",
            "placeholder": "​",
            "_view_module": "@jupyter-widgets/controls",
            "_model_module_version": "1.5.0",
            "value": " 8192/? [00:03&lt;00:00, 2513.77it/s]",
            "_view_count": null,
            "_view_module_version": "1.5.0",
            "description_tooltip": null,
            "_model_module": "@jupyter-widgets/controls",
            "layout": "IPY_MODEL_8eb63816732a4c1ca79497e6910d8e31"
          }
        },
        "01c2b4d72feb4e06a084500efc4e48d3": {
          "model_module": "@jupyter-widgets/controls",
          "model_name": "ProgressStyleModel",
          "state": {
            "_view_name": "StyleView",
            "_model_name": "ProgressStyleModel",
            "description_width": "initial",
            "_view_module": "@jupyter-widgets/base",
            "_model_module_version": "1.5.0",
            "_view_count": null,
            "_view_module_version": "1.2.0",
            "bar_color": null,
            "_model_module": "@jupyter-widgets/controls"
          }
        },
        "0c6ccc57d26a49278163d29cb6438b83": {
          "model_module": "@jupyter-widgets/base",
          "model_name": "LayoutModel",
          "state": {
            "_view_name": "LayoutView",
            "grid_template_rows": null,
            "right": null,
            "justify_content": null,
            "_view_module": "@jupyter-widgets/base",
            "overflow": null,
            "_model_module_version": "1.2.0",
            "_view_count": null,
            "flex_flow": null,
            "width": null,
            "min_width": null,
            "border": null,
            "align_items": null,
            "bottom": null,
            "_model_module": "@jupyter-widgets/base",
            "top": null,
            "grid_column": null,
            "overflow_y": null,
            "overflow_x": null,
            "grid_auto_flow": null,
            "grid_area": null,
            "grid_template_columns": null,
            "flex": null,
            "_model_name": "LayoutModel",
            "justify_items": null,
            "grid_row": null,
            "max_height": null,
            "align_content": null,
            "visibility": null,
            "align_self": null,
            "height": null,
            "min_height": null,
            "padding": null,
            "grid_auto_rows": null,
            "grid_gap": null,
            "max_width": null,
            "order": null,
            "_view_module_version": "1.2.0",
            "grid_template_areas": null,
            "object_position": null,
            "object_fit": null,
            "grid_auto_columns": null,
            "margin": null,
            "display": null,
            "left": null
          }
        },
        "e2aeabc9e02549c7b5ab77a96842ca9f": {
          "model_module": "@jupyter-widgets/controls",
          "model_name": "DescriptionStyleModel",
          "state": {
            "_view_name": "StyleView",
            "_model_name": "DescriptionStyleModel",
            "description_width": "",
            "_view_module": "@jupyter-widgets/base",
            "_model_module_version": "1.5.0",
            "_view_count": null,
            "_view_module_version": "1.2.0",
            "_model_module": "@jupyter-widgets/controls"
          }
        },
        "8eb63816732a4c1ca79497e6910d8e31": {
          "model_module": "@jupyter-widgets/base",
          "model_name": "LayoutModel",
          "state": {
            "_view_name": "LayoutView",
            "grid_template_rows": null,
            "right": null,
            "justify_content": null,
            "_view_module": "@jupyter-widgets/base",
            "overflow": null,
            "_model_module_version": "1.2.0",
            "_view_count": null,
            "flex_flow": null,
            "width": null,
            "min_width": null,
            "border": null,
            "align_items": null,
            "bottom": null,
            "_model_module": "@jupyter-widgets/base",
            "top": null,
            "grid_column": null,
            "overflow_y": null,
            "overflow_x": null,
            "grid_auto_flow": null,
            "grid_area": null,
            "grid_template_columns": null,
            "flex": null,
            "_model_name": "LayoutModel",
            "justify_items": null,
            "grid_row": null,
            "max_height": null,
            "align_content": null,
            "visibility": null,
            "align_self": null,
            "height": null,
            "min_height": null,
            "padding": null,
            "grid_auto_rows": null,
            "grid_gap": null,
            "max_width": null,
            "order": null,
            "_view_module_version": "1.2.0",
            "grid_template_areas": null,
            "object_position": null,
            "object_fit": null,
            "grid_auto_columns": null,
            "margin": null,
            "display": null,
            "left": null
          }
        }
      }
    }
  },
  "cells": [
    {
      "cell_type": "markdown",
      "metadata": {
        "id": "view-in-github",
        "colab_type": "text"
      },
      "source": [
        "<a href=\"https://colab.research.google.com/github/PacktPublishing/Modern-Computer-Vision-with-PyTorch-2E/blob/main/Chapter12/Handwritten_digit_generation_using_GAN.ipynb\" target=\"_parent\"><img src=\"https://colab.research.google.com/assets/colab-badge.svg\" alt=\"Open In Colab\"/></a>"
      ]
    },
    {
      "cell_type": "code",
      "metadata": {
        "id": "0AfaQVORthOv",
        "outputId": "52a36089-695f-4180-957f-f4e97816fa2f",
        "colab": {
          "base_uri": "https://localhost:8080/"
        }
      },
      "source": [
        "%pip install -q torch_snippets\n",
        "from torch_snippets import *\n",
        "device = \"cuda\" if torch.cuda.is_available() else \"cpu\"\n",
        "from torchvision.utils import make_grid"
      ],
      "execution_count": null,
      "outputs": [
        {
          "output_type": "stream",
          "text": [
            "\u001b[K     |████████████████████████████████| 36.7MB 81kB/s \n",
            "\u001b[K     |████████████████████████████████| 61kB 8.7MB/s \n",
            "\u001b[K     |████████████████████████████████| 102kB 13.2MB/s \n",
            "\u001b[?25h  Building wheel for contextvars (setup.py) ... \u001b[?25l\u001b[?25hdone\n"
          ],
          "name": "stdout"
        }
      ]
    },
    {
      "cell_type": "code",
      "metadata": {
        "id": "eEnnjqoNtllk",
        "outputId": "25be10c5-3790-438f-8c45-e5a4612a0311",
        "colab": {
          "base_uri": "https://localhost:8080/",
          "height": 386,
          "referenced_widgets": [
            "3c03a5f4f4554219aecd4ce257cf4e11",
            "4f27e1e7e2604e0a9054b52205bbd9a8",
            "857619683bd24bbcb0b503d9b63eafbd",
            "ccc443795e744c008b8d225649108f4b",
            "46992055967e4fe3bddb52431b01e5b4",
            "31e501cd4e4d499a94a88ebf45da3b65",
            "4de9b6cfafce41388e0222a4389aa4c3",
            "ee6c21ba6a8a4401b85a6388515d5891",
            "dd7b5f56812646e998bff1786e4b4493",
            "b1a468fff5a448dd829cfb64ee4be2a6",
            "c25265001c944071a64c6f9a2a0c76f3",
            "76c282ff6b5241ffa4b92c781465ec9d",
            "630c97142a0c41dea82b043a75fcba3f",
            "ae5dd05c5f5c4b3b939780c117c931a8",
            "a5184bf4dddd447cae29cac1945eb609",
            "5b8ce28d5cd64cc2bc5ef2c375e96dd4",
            "64a0afdfc8784130a09ed7fb06914543",
            "049ff360c2714c57851caedf8758888c",
            "3f2ea414e2534f298b8c9bbc637abab4",
            "c2f686984f824f3992f4631a7c2e75a4",
            "e1f1e18a57bf4852ac3391dcd490b81a",
            "d83f7248cc6648209203389da074937f",
            "7ff3ce0d83304bac9c926fff17ef6b4e",
            "38b9cd35415f470cb545afe0e7afc9d0",
            "880e0b379a4546b2be474ed3c8237150",
            "52fa50e8b63a4c2dadc15c201d04aa53",
            "037913eb438a4c75b5fdcd9329a8b491",
            "82b047620ea04b2dae946e95d73b1072",
            "01c2b4d72feb4e06a084500efc4e48d3",
            "0c6ccc57d26a49278163d29cb6438b83",
            "e2aeabc9e02549c7b5ab77a96842ca9f",
            "8eb63816732a4c1ca79497e6910d8e31"
          ]
        }
      },
      "source": [
        "from torchvision.datasets import MNIST\n",
        "from torchvision import transforms\n",
        "\n",
        "transform = transforms.Compose([\n",
        "        transforms.ToTensor(),\n",
        "        transforms.Normalize(mean=(0.5,), std=(0.5,))\n",
        "])\n",
        "\n",
        "data_loader = torch.utils.data.DataLoader(MNIST('~/data', train=True, download=True, transform=transform),batch_size=128, shuffle=True, drop_last=True)"
      ],
      "execution_count": null,
      "outputs": [
        {
          "output_type": "stream",
          "text": [
            "Downloading http://yann.lecun.com/exdb/mnist/train-images-idx3-ubyte.gz to /root/data/MNIST/raw/train-images-idx3-ubyte.gz\n"
          ],
          "name": "stdout"
        },
        {
          "output_type": "display_data",
          "data": {
            "application/vnd.jupyter.widget-view+json": {
              "model_id": "3c03a5f4f4554219aecd4ce257cf4e11",
              "version_minor": 0,
              "version_major": 2
            },
            "text/plain": [
              "HBox(children=(FloatProgress(value=1.0, bar_style='info', max=1.0), HTML(value='')))"
            ]
          },
          "metadata": {
            "tags": []
          }
        },
        {
          "output_type": "stream",
          "text": [
            "Extracting /root/data/MNIST/raw/train-images-idx3-ubyte.gz to /root/data/MNIST/raw\n",
            "Downloading http://yann.lecun.com/exdb/mnist/train-labels-idx1-ubyte.gz to /root/data/MNIST/raw/train-labels-idx1-ubyte.gz\n"
          ],
          "name": "stdout"
        },
        {
          "output_type": "display_data",
          "data": {
            "application/vnd.jupyter.widget-view+json": {
              "model_id": "dd7b5f56812646e998bff1786e4b4493",
              "version_minor": 0,
              "version_major": 2
            },
            "text/plain": [
              "HBox(children=(FloatProgress(value=1.0, bar_style='info', max=1.0), HTML(value='')))"
            ]
          },
          "metadata": {
            "tags": []
          }
        },
        {
          "output_type": "stream",
          "text": [
            "Extracting /root/data/MNIST/raw/train-labels-idx1-ubyte.gz to /root/data/MNIST/raw\n",
            "Downloading http://yann.lecun.com/exdb/mnist/t10k-images-idx3-ubyte.gz to /root/data/MNIST/raw/t10k-images-idx3-ubyte.gz\n",
            "\n"
          ],
          "name": "stdout"
        },
        {
          "output_type": "display_data",
          "data": {
            "application/vnd.jupyter.widget-view+json": {
              "model_id": "64a0afdfc8784130a09ed7fb06914543",
              "version_minor": 0,
              "version_major": 2
            },
            "text/plain": [
              "HBox(children=(FloatProgress(value=1.0, bar_style='info', max=1.0), HTML(value='')))"
            ]
          },
          "metadata": {
            "tags": []
          }
        },
        {
          "output_type": "stream",
          "text": [
            "Extracting /root/data/MNIST/raw/t10k-images-idx3-ubyte.gz to /root/data/MNIST/raw\n",
            "Downloading http://yann.lecun.com/exdb/mnist/t10k-labels-idx1-ubyte.gz to /root/data/MNIST/raw/t10k-labels-idx1-ubyte.gz\n"
          ],
          "name": "stdout"
        },
        {
          "output_type": "display_data",
          "data": {
            "application/vnd.jupyter.widget-view+json": {
              "model_id": "880e0b379a4546b2be474ed3c8237150",
              "version_minor": 0,
              "version_major": 2
            },
            "text/plain": [
              "HBox(children=(FloatProgress(value=1.0, bar_style='info', max=1.0), HTML(value='')))"
            ]
          },
          "metadata": {
            "tags": []
          }
        },
        {
          "output_type": "stream",
          "text": [
            "Extracting /root/data/MNIST/raw/t10k-labels-idx1-ubyte.gz to /root/data/MNIST/raw\n",
            "Processing...\n",
            "Done!\n"
          ],
          "name": "stdout"
        },
        {
          "output_type": "stream",
          "text": [
            "/usr/local/lib/python3.6/dist-packages/torchvision/datasets/mnist.py:480: UserWarning: The given NumPy array is not writeable, and PyTorch does not support non-writeable tensors. This means you can write to the underlying (supposedly non-writeable) NumPy array using the tensor. You may want to copy the array to protect its data or make it writeable before converting it to a tensor. This type of warning will be suppressed for the rest of this program. (Triggered internally at  /pytorch/torch/csrc/utils/tensor_numpy.cpp:141.)\n",
            "  return torch.from_numpy(parsed.astype(m[2], copy=False)).view(*s)\n"
          ],
          "name": "stderr"
        }
      ]
    },
    {
      "cell_type": "code",
      "metadata": {
        "id": "CQJY5j82tniL"
      },
      "source": [
        "class Discriminator(nn.Module):\n",
        "    def __init__(self):\n",
        "        super().__init__()\n",
        "        self.model = nn.Sequential( \n",
        "            nn.Linear(784, 1024),\n",
        "            nn.LeakyReLU(0.2),\n",
        "            nn.Dropout(0.3),\n",
        "            nn.Linear(1024, 512),\n",
        "            nn.LeakyReLU(0.2),\n",
        "            nn.Dropout(0.3),\n",
        "            nn.Linear(512, 256),\n",
        "            nn.LeakyReLU(0.2),\n",
        "            nn.Dropout(0.3),\n",
        "            nn.Linear(256, 1),\n",
        "            nn.Sigmoid()\n",
        "        )\n",
        "    def forward(self, x): return self.model(x)"
      ],
      "execution_count": null,
      "outputs": []
    },
    {
      "cell_type": "code",
      "metadata": {
        "id": "oIxkSbbOtpgs",
        "outputId": "ec1580d3-11a9-411b-a606-0a9b43bb9ed3",
        "colab": {
          "base_uri": "https://localhost:8080/"
        }
      },
      "source": [
        "%pip install torch_summary\n",
        "from torchsummary import summary\n",
        "discriminator = Discriminator().to(device)\n",
        "summary(discriminator,torch.zeros(1,784))"
      ],
      "execution_count": null,
      "outputs": [
        {
          "output_type": "stream",
          "text": [
            "Requirement already satisfied: torch_summary in /usr/local/lib/python3.6/dist-packages (1.4.3)\n",
            "==========================================================================================\n",
            "Layer (type:depth-idx)                   Output Shape              Param #\n",
            "==========================================================================================\n",
            "├─Sequential: 1-1                        [-1, 1]                   --\n",
            "|    └─Linear: 2-1                       [-1, 1024]                803,840\n",
            "|    └─LeakyReLU: 2-2                    [-1, 1024]                --\n",
            "|    └─Dropout: 2-3                      [-1, 1024]                --\n",
            "|    └─Linear: 2-4                       [-1, 512]                 524,800\n",
            "|    └─LeakyReLU: 2-5                    [-1, 512]                 --\n",
            "|    └─Dropout: 2-6                      [-1, 512]                 --\n",
            "|    └─Linear: 2-7                       [-1, 256]                 131,328\n",
            "|    └─LeakyReLU: 2-8                    [-1, 256]                 --\n",
            "|    └─Dropout: 2-9                      [-1, 256]                 --\n",
            "|    └─Linear: 2-10                      [-1, 1]                   257\n",
            "|    └─Sigmoid: 2-11                     [-1, 1]                   --\n",
            "==========================================================================================\n",
            "Total params: 1,460,225\n",
            "Trainable params: 1,460,225\n",
            "Non-trainable params: 0\n",
            "Total mult-adds (M): 2.92\n",
            "==========================================================================================\n",
            "Input size (MB): 0.00\n",
            "Forward/backward pass size (MB): 0.01\n",
            "Params size (MB): 5.57\n",
            "Estimated Total Size (MB): 5.59\n",
            "==========================================================================================\n"
          ],
          "name": "stdout"
        },
        {
          "output_type": "execute_result",
          "data": {
            "text/plain": [
              "==========================================================================================\n",
              "Layer (type:depth-idx)                   Output Shape              Param #\n",
              "==========================================================================================\n",
              "├─Sequential: 1-1                        [-1, 1]                   --\n",
              "|    └─Linear: 2-1                       [-1, 1024]                803,840\n",
              "|    └─LeakyReLU: 2-2                    [-1, 1024]                --\n",
              "|    └─Dropout: 2-3                      [-1, 1024]                --\n",
              "|    └─Linear: 2-4                       [-1, 512]                 524,800\n",
              "|    └─LeakyReLU: 2-5                    [-1, 512]                 --\n",
              "|    └─Dropout: 2-6                      [-1, 512]                 --\n",
              "|    └─Linear: 2-7                       [-1, 256]                 131,328\n",
              "|    └─LeakyReLU: 2-8                    [-1, 256]                 --\n",
              "|    └─Dropout: 2-9                      [-1, 256]                 --\n",
              "|    └─Linear: 2-10                      [-1, 1]                   257\n",
              "|    └─Sigmoid: 2-11                     [-1, 1]                   --\n",
              "==========================================================================================\n",
              "Total params: 1,460,225\n",
              "Trainable params: 1,460,225\n",
              "Non-trainable params: 0\n",
              "Total mult-adds (M): 2.92\n",
              "==========================================================================================\n",
              "Input size (MB): 0.00\n",
              "Forward/backward pass size (MB): 0.01\n",
              "Params size (MB): 5.57\n",
              "Estimated Total Size (MB): 5.59\n",
              "=========================================================================================="
            ]
          },
          "metadata": {
            "tags": []
          },
          "execution_count": 14
        }
      ]
    },
    {
      "cell_type": "code",
      "metadata": {
        "id": "UCZyoOkktrJa"
      },
      "source": [
        "class Generator(nn.Module):\n",
        "    def __init__(self):\n",
        "        super().__init__()\n",
        "        self.model = nn.Sequential(\n",
        "            nn.Linear(100, 256),\n",
        "            nn.LeakyReLU(0.2),\n",
        "            nn.Linear(256, 512),\n",
        "            nn.LeakyReLU(0.2),\n",
        "            nn.Linear(512, 1024),\n",
        "            nn.LeakyReLU(0.2),\n",
        "            nn.Linear(1024, 784),\n",
        "            nn.Tanh()\n",
        "        )\n",
        "\n",
        "    def forward(self, x): return self.model(x)"
      ],
      "execution_count": null,
      "outputs": []
    },
    {
      "cell_type": "code",
      "metadata": {
        "id": "_BF-3N0uttBE",
        "outputId": "e2f7f709-d524-4768-d677-70a2c67f7614",
        "colab": {
          "base_uri": "https://localhost:8080/"
        }
      },
      "source": [
        "generator = Generator().to(device)\n",
        "summary(generator,torch.zeros(1,100))"
      ],
      "execution_count": null,
      "outputs": [
        {
          "output_type": "stream",
          "text": [
            "==========================================================================================\n",
            "Layer (type:depth-idx)                   Output Shape              Param #\n",
            "==========================================================================================\n",
            "├─Sequential: 1-1                        [-1, 784]                 --\n",
            "|    └─Linear: 2-1                       [-1, 256]                 25,856\n",
            "|    └─LeakyReLU: 2-2                    [-1, 256]                 --\n",
            "|    └─Linear: 2-3                       [-1, 512]                 131,584\n",
            "|    └─LeakyReLU: 2-4                    [-1, 512]                 --\n",
            "|    └─Linear: 2-5                       [-1, 1024]                525,312\n",
            "|    └─LeakyReLU: 2-6                    [-1, 1024]                --\n",
            "|    └─Linear: 2-7                       [-1, 784]                 803,600\n",
            "|    └─Tanh: 2-8                         [-1, 784]                 --\n",
            "==========================================================================================\n",
            "Total params: 1,486,352\n",
            "Trainable params: 1,486,352\n",
            "Non-trainable params: 0\n",
            "Total mult-adds (M): 2.97\n",
            "==========================================================================================\n",
            "Input size (MB): 0.00\n",
            "Forward/backward pass size (MB): 0.02\n",
            "Params size (MB): 5.67\n",
            "Estimated Total Size (MB): 5.69\n",
            "==========================================================================================\n"
          ],
          "name": "stdout"
        },
        {
          "output_type": "execute_result",
          "data": {
            "text/plain": [
              "==========================================================================================\n",
              "Layer (type:depth-idx)                   Output Shape              Param #\n",
              "==========================================================================================\n",
              "├─Sequential: 1-1                        [-1, 784]                 --\n",
              "|    └─Linear: 2-1                       [-1, 256]                 25,856\n",
              "|    └─LeakyReLU: 2-2                    [-1, 256]                 --\n",
              "|    └─Linear: 2-3                       [-1, 512]                 131,584\n",
              "|    └─LeakyReLU: 2-4                    [-1, 512]                 --\n",
              "|    └─Linear: 2-5                       [-1, 1024]                525,312\n",
              "|    └─LeakyReLU: 2-6                    [-1, 1024]                --\n",
              "|    └─Linear: 2-7                       [-1, 784]                 803,600\n",
              "|    └─Tanh: 2-8                         [-1, 784]                 --\n",
              "==========================================================================================\n",
              "Total params: 1,486,352\n",
              "Trainable params: 1,486,352\n",
              "Non-trainable params: 0\n",
              "Total mult-adds (M): 2.97\n",
              "==========================================================================================\n",
              "Input size (MB): 0.00\n",
              "Forward/backward pass size (MB): 0.02\n",
              "Params size (MB): 5.67\n",
              "Estimated Total Size (MB): 5.69\n",
              "=========================================================================================="
            ]
          },
          "metadata": {
            "tags": []
          },
          "execution_count": 16
        }
      ]
    },
    {
      "cell_type": "code",
      "metadata": {
        "id": "edES5gU2tvUC"
      },
      "source": [
        "def noise(size):\n",
        "    n = torch.randn(size, 100)\n",
        "    return n.to(device)"
      ],
      "execution_count": null,
      "outputs": []
    },
    {
      "cell_type": "code",
      "metadata": {
        "id": "pTcDOPpytw-D"
      },
      "source": [
        "def discriminator_train_step(real_data, fake_data):\n",
        "    d_optimizer.zero_grad()\n",
        "    prediction_real = discriminator(real_data)\n",
        "    error_real = loss(prediction_real, torch.ones(len(real_data), 1).to(device))\n",
        "    error_real.backward()\n",
        "    prediction_fake = discriminator(fake_data)\n",
        "    error_fake = loss(prediction_fake, torch.zeros(len(fake_data), 1).to(device))\n",
        "    error_fake.backward()\n",
        "    d_optimizer.step()\n",
        "    return error_real + error_fake"
      ],
      "execution_count": null,
      "outputs": []
    },
    {
      "cell_type": "code",
      "metadata": {
        "id": "xu1Vhtz1t4tS"
      },
      "source": [
        "def generator_train_step(fake_data):\n",
        "    g_optimizer.zero_grad()\n",
        "    prediction = discriminator(fake_data)\n",
        "    error = loss(prediction, torch.ones(len(real_data), 1).to(device))\n",
        "    error.backward()\n",
        "    g_optimizer.step()\n",
        "    return error"
      ],
      "execution_count": null,
      "outputs": []
    },
    {
      "cell_type": "code",
      "metadata": {
        "id": "CAeSZ7u3uAPf"
      },
      "source": [
        "discriminator = Discriminator().to(device)\n",
        "generator = Generator().to(device)\n",
        "d_optimizer = optim.Adam(discriminator.parameters(), lr=0.0002)\n",
        "g_optimizer = optim.Adam(generator.parameters(), lr=0.0002)\n",
        "loss = nn.BCELoss()\n",
        "num_epochs = 200\n",
        "log = Report(num_epochs)"
      ],
      "execution_count": null,
      "outputs": []
    },
    {
      "cell_type": "code",
      "metadata": {
        "id": "7fukw3zFuCr8",
        "outputId": "e8ff0b25-a05b-4b93-bc81-497c47c36ddb",
        "colab": {
          "base_uri": "https://localhost:8080/",
          "height": 1000
        }
      },
      "source": [
        "for epoch in range(num_epochs):\n",
        "    N = len(data_loader)\n",
        "    for i, (images, _) in enumerate(data_loader):\n",
        "        real_data = images.view(len(images), -1).to(device)\n",
        "        fake_data = generator(noise(len(real_data))).to(device)\n",
        "        fake_data = fake_data.detach()\n",
        "        d_loss = discriminator_train_step(real_data, fake_data)\n",
        "        fake_data = generator(noise(len(real_data))).to(device)\n",
        "        g_loss = generator_train_step(fake_data)\n",
        "        log.record(epoch+(1+i)/N, d_loss=d_loss.item(), g_loss=g_loss.item(), end='\\r')\n",
        "    log.report_avgs(epoch+1)\n",
        "log.plot_epochs(['d_loss', 'g_loss'])"
      ],
      "execution_count": null,
      "outputs": [
        {
          "output_type": "stream",
          "text": [
            "EPOCH: 1.000\td_loss: 0.839\tg_loss: 3.254\t(14.88s - 2960.95s remaining)\n",
            "EPOCH: 2.000\td_loss: 0.786\tg_loss: 4.338\t(27.37s - 2709.66s remaining)\n",
            "EPOCH: 3.000\td_loss: 0.915\tg_loss: 2.351\t(40.28s - 2644.75s remaining)\n",
            "EPOCH: 4.000\td_loss: 0.810\tg_loss: 2.462\t(52.94s - 2594.29s remaining)\n",
            "EPOCH: 5.000\td_loss: 0.679\tg_loss: 2.651\t(65.44s - 2552.31s remaining)\n",
            "EPOCH: 6.000\td_loss: 0.333\tg_loss: 3.991\t(78.65s - 2543.15s remaining)\n",
            "EPOCH: 7.000\td_loss: 0.444\tg_loss: 3.567\t(92.02s - 2537.07s remaining)\n",
            "EPOCH: 8.000\td_loss: 0.454\tg_loss: 3.225\t(104.66s - 2511.72s remaining)\n",
            "EPOCH: 9.000\td_loss: 0.494\tg_loss: 2.993\t(118.02s - 2504.74s remaining)\n",
            "EPOCH: 10.000\td_loss: 0.530\tg_loss: 2.856\t(130.87s - 2486.59s remaining)\n",
            "EPOCH: 11.000\td_loss: 0.477\tg_loss: 2.913\t(143.87s - 2471.88s remaining)\n",
            "EPOCH: 12.000\td_loss: 0.496\tg_loss: 2.963\t(156.28s - 2448.38s remaining)\n",
            "EPOCH: 13.000\td_loss: 0.541\tg_loss: 2.702\t(169.04s - 2431.55s remaining)\n",
            "EPOCH: 14.000\td_loss: 0.655\tg_loss: 2.362\t(181.85s - 2415.95s remaining)\n",
            "EPOCH: 15.000\td_loss: 0.659\tg_loss: 2.362\t(194.41s - 2397.70s remaining)\n",
            "EPOCH: 16.000\td_loss: 0.667\tg_loss: 2.316\t(206.99s - 2380.38s remaining)\n",
            "EPOCH: 17.000\td_loss: 0.701\tg_loss: 2.160\t(219.70s - 2365.04s remaining)\n",
            "EPOCH: 18.000\td_loss: 0.680\tg_loss: 2.165\t(232.28s - 2348.66s remaining)\n",
            "EPOCH: 19.000\td_loss: 0.731\tg_loss: 2.103\t(245.18s - 2335.64s remaining)\n",
            "EPOCH: 20.000\td_loss: 0.745\tg_loss: 2.059\t(258.06s - 2322.58s remaining)\n",
            "EPOCH: 21.000\td_loss: 0.820\tg_loss: 1.865\t(271.10s - 2310.83s remaining)\n",
            "EPOCH: 22.000\td_loss: 0.853\tg_loss: 1.761\t(283.77s - 2295.94s remaining)\n",
            "EPOCH: 23.000\td_loss: 0.781\tg_loss: 1.954\t(296.40s - 2280.98s remaining)\n",
            "EPOCH: 24.000\td_loss: 0.805\tg_loss: 1.933\t(309.01s - 2266.06s remaining)\n",
            "EPOCH: 25.000\td_loss: 0.828\tg_loss: 1.914\t(321.43s - 2250.02s remaining)\n",
            "EPOCH: 26.000\td_loss: 0.804\tg_loss: 1.906\t(334.11s - 2235.97s remaining)\n",
            "EPOCH: 27.000\td_loss: 0.837\tg_loss: 1.788\t(347.03s - 2223.54s remaining)\n",
            "EPOCH: 28.000\td_loss: 0.811\tg_loss: 1.838\t(359.27s - 2206.95s remaining)\n",
            "EPOCH: 29.000\td_loss: 0.858\tg_loss: 1.763\t(372.05s - 2193.79s remaining)\n",
            "EPOCH: 30.000\td_loss: 0.882\tg_loss: 1.684\t(384.63s - 2179.56s remaining)\n",
            "EPOCH: 31.000\td_loss: 0.928\tg_loss: 1.574\t(397.68s - 2167.99s remaining)\n",
            "EPOCH: 32.000\td_loss: 0.920\tg_loss: 1.598\t(410.50s - 2155.14s remaining)\n",
            "EPOCH: 33.000\td_loss: 0.936\tg_loss: 1.562\t(423.38s - 2142.54s remaining)\n",
            "EPOCH: 34.000\td_loss: 0.952\tg_loss: 1.535\t(436.11s - 2129.23s remaining)\n",
            "EPOCH: 35.000\td_loss: 0.969\tg_loss: 1.474\t(449.16s - 2117.47s remaining)\n",
            "EPOCH: 36.000\td_loss: 0.975\tg_loss: 1.480\t(462.00s - 2104.67s remaining)\n",
            "EPOCH: 37.000\td_loss: 1.000\tg_loss: 1.418\t(474.62s - 2090.87s remaining)\n",
            "EPOCH: 38.000\td_loss: 0.999\tg_loss: 1.442\t(486.77s - 2075.18s remaining)\n",
            "EPOCH: 39.000\td_loss: 1.018\tg_loss: 1.404\t(499.91s - 2063.75s remaining)\n",
            "EPOCH: 40.000\td_loss: 1.032\tg_loss: 1.379\t(512.46s - 2049.83s remaining)\n",
            "EPOCH: 41.000\td_loss: 1.029\tg_loss: 1.346\t(524.71s - 2034.84s remaining)\n",
            "EPOCH: 42.000\td_loss: 1.038\tg_loss: 1.333\t(537.49s - 2022.00s remaining)\n",
            "EPOCH: 43.000\td_loss: 1.041\tg_loss: 1.344\t(550.13s - 2008.62s remaining)\n",
            "EPOCH: 44.000\td_loss: 1.052\tg_loss: 1.308\t(563.33s - 1997.25s remaining)\n",
            "EPOCH: 45.000\td_loss: 1.071\tg_loss: 1.281\t(575.70s - 1982.98s remaining)\n",
            "EPOCH: 46.000\td_loss: 1.060\tg_loss: 1.302\t(588.65s - 1970.69s remaining)\n",
            "EPOCH: 47.000\td_loss: 1.064\tg_loss: 1.302\t(601.14s - 1956.90s remaining)\n",
            "EPOCH: 48.000\td_loss: 1.075\tg_loss: 1.259\t(613.72s - 1943.45s remaining)\n",
            "EPOCH: 49.000\td_loss: 1.106\tg_loss: 1.215\t(626.47s - 1930.55s remaining)\n",
            "EPOCH: 50.000\td_loss: 1.112\tg_loss: 1.184\t(638.79s - 1916.38s remaining)\n",
            "EPOCH: 51.000\td_loss: 1.115\tg_loss: 1.175\t(651.77s - 1904.20s remaining)\n",
            "EPOCH: 52.000\td_loss: 1.119\tg_loss: 1.177\t(664.13s - 1890.21s remaining)\n",
            "EPOCH: 53.000\td_loss: 1.121\tg_loss: 1.179\t(676.57s - 1876.53s remaining)\n",
            "EPOCH: 54.000\td_loss: 1.108\tg_loss: 1.196\t(689.72s - 1864.81s remaining)\n",
            "EPOCH: 55.000\td_loss: 1.112\tg_loss: 1.205\t(702.57s - 1852.22s remaining)\n",
            "EPOCH: 56.000\td_loss: 1.104\tg_loss: 1.214\t(715.56s - 1840.02s remaining)\n",
            "EPOCH: 57.000\td_loss: 1.134\tg_loss: 1.147\t(728.13s - 1826.72s remaining)\n",
            "EPOCH: 58.000\td_loss: 1.143\tg_loss: 1.124\t(740.25s - 1812.34s remaining)\n",
            "EPOCH: 59.000\td_loss: 1.138\tg_loss: 1.136\t(752.99s - 1799.53s remaining)\n",
            "EPOCH: 60.000\td_loss: 1.151\tg_loss: 1.114\t(766.41s - 1788.28s remaining)\n",
            "EPOCH: 61.000\td_loss: 1.157\tg_loss: 1.103\t(780.01s - 1777.41s remaining)\n",
            "EPOCH: 62.000\td_loss: 1.149\tg_loss: 1.116\t(793.34s - 1765.81s remaining)\n",
            "EPOCH: 63.000\td_loss: 1.150\tg_loss: 1.115\t(806.27s - 1753.32s remaining)\n",
            "EPOCH: 64.000\td_loss: 1.156\tg_loss: 1.108\t(818.97s - 1740.31s remaining)\n",
            "EPOCH: 65.000\td_loss: 1.148\tg_loss: 1.135\t(831.50s - 1726.95s remaining)\n",
            "EPOCH: 66.000\td_loss: 1.149\tg_loss: 1.122\t(843.93s - 1713.43s remaining)\n",
            "EPOCH: 67.000\td_loss: 1.156\tg_loss: 1.123\t(857.07s - 1701.34s remaining)\n",
            "EPOCH: 68.000\td_loss: 1.145\tg_loss: 1.115\t(869.75s - 1688.33s remaining)\n",
            "EPOCH: 69.000\td_loss: 1.159\tg_loss: 1.095\t(882.44s - 1675.36s remaining)\n",
            "EPOCH: 70.000\td_loss: 1.178\tg_loss: 1.070\t(894.98s - 1662.10s remaining)\n",
            "EPOCH: 71.000\td_loss: 1.170\tg_loss: 1.074\t(907.33s - 1648.53s remaining)\n",
            "EPOCH: 72.000\td_loss: 1.187\tg_loss: 1.049\t(919.78s - 1635.17s remaining)\n",
            "EPOCH: 73.000\td_loss: 1.189\tg_loss: 1.045\t(932.45s - 1622.20s remaining)\n",
            "EPOCH: 74.000\td_loss: 1.187\tg_loss: 1.056\t(945.63s - 1610.12s remaining)\n",
            "EPOCH: 75.000\td_loss: 1.181\tg_loss: 1.069\t(959.24s - 1598.73s remaining)\n",
            "EPOCH: 76.000\td_loss: 1.179\tg_loss: 1.049\t(972.26s - 1586.31s remaining)\n",
            "EPOCH: 77.000\td_loss: 1.194\tg_loss: 1.048\t(984.91s - 1573.30s remaining)\n",
            "EPOCH: 78.000\td_loss: 1.200\tg_loss: 1.033\t(997.68s - 1560.48s remaining)\n",
            "EPOCH: 79.000\td_loss: 1.194\tg_loss: 1.036\t(1010.18s - 1547.24s remaining)\n",
            "EPOCH: 80.000\td_loss: 1.196\tg_loss: 1.034\t(1023.43s - 1535.15s remaining)\n",
            "EPOCH: 81.000\td_loss: 1.199\tg_loss: 1.028\t(1036.71s - 1523.07s remaining)\n",
            "EPOCH: 82.000\td_loss: 1.195\tg_loss: 1.033\t(1049.94s - 1510.89s remaining)\n",
            "EPOCH: 83.000\td_loss: 1.202\tg_loss: 1.025\t(1063.00s - 1498.44s remaining)\n",
            "EPOCH: 84.000\td_loss: 1.200\tg_loss: 1.020\t(1076.17s - 1486.14s remaining)\n",
            "EPOCH: 85.000\td_loss: 1.201\tg_loss: 1.016\t(1088.91s - 1473.23s remaining)\n",
            "EPOCH: 86.000\td_loss: 1.209\tg_loss: 1.014\t(1101.26s - 1459.81s remaining)\n",
            "EPOCH: 87.000\td_loss: 1.209\tg_loss: 1.009\t(1114.89s - 1448.08s remaining)\n",
            "EPOCH: 88.000\td_loss: 1.211\tg_loss: 1.004\t(1127.54s - 1435.06s remaining)\n",
            "EPOCH: 89.000\td_loss: 1.217\tg_loss: 1.001\t(1139.91s - 1421.68s remaining)\n",
            "EPOCH: 90.000\td_loss: 1.194\tg_loss: 1.035\t(1152.62s - 1408.76s remaining)\n",
            "EPOCH: 91.000\td_loss: 1.210\tg_loss: 1.010\t(1165.60s - 1396.15s remaining)\n",
            "EPOCH: 92.000\td_loss: 1.217\tg_loss: 0.989\t(1178.52s - 1383.47s remaining)\n",
            "EPOCH: 93.000\td_loss: 1.221\tg_loss: 0.994\t(1191.82s - 1371.23s remaining)\n",
            "EPOCH: 94.000\td_loss: 1.217\tg_loss: 0.999\t(1204.47s - 1358.23s remaining)\n",
            "EPOCH: 95.000\td_loss: 1.220\tg_loss: 0.988\t(1217.05s - 1345.16s remaining)\n",
            "EPOCH: 96.000\td_loss: 1.222\tg_loss: 0.980\t(1229.63s - 1332.10s remaining)\n",
            "EPOCH: 97.000\td_loss: 1.212\tg_loss: 1.004\t(1243.06s - 1319.95s remaining)\n",
            "EPOCH: 98.000\td_loss: 1.215\tg_loss: 0.997\t(1256.17s - 1307.44s remaining)\n",
            "EPOCH: 99.000\td_loss: 1.230\tg_loss: 0.971\t(1268.61s - 1294.23s remaining)\n",
            "EPOCH: 100.000\td_loss: 1.218\tg_loss: 0.994\t(1281.10s - 1281.10s remaining)\n",
            "EPOCH: 101.000\td_loss: 1.222\tg_loss: 0.986\t(1293.43s - 1267.82s remaining)\n",
            "EPOCH: 102.000\td_loss: 1.229\tg_loss: 0.973\t(1306.13s - 1254.91s remaining)\n",
            "EPOCH: 103.000\td_loss: 1.223\tg_loss: 0.980\t(1319.25s - 1242.40s remaining)\n",
            "EPOCH: 104.000\td_loss: 1.222\tg_loss: 0.999\t(1332.81s - 1230.29s remaining)\n",
            "EPOCH: 105.000\td_loss: 1.222\tg_loss: 0.979\t(1346.31s - 1218.09s remaining)\n",
            "EPOCH: 106.000\td_loss: 1.234\tg_loss: 0.961\t(1359.16s - 1205.29s remaining)\n",
            "EPOCH: 107.000\td_loss: 1.231\tg_loss: 0.979\t(1372.86s - 1193.24s remaining)\n",
            "EPOCH: 108.000\td_loss: 1.236\tg_loss: 0.954\t(1386.20s - 1180.84s remaining)\n",
            "EPOCH: 109.000\td_loss: 1.246\tg_loss: 0.949\t(1399.69s - 1168.55s remaining)\n",
            "EPOCH: 110.000\td_loss: 1.246\tg_loss: 0.934\t(1413.41s - 1156.42s remaining)\n",
            "EPOCH: 111.000\td_loss: 1.241\tg_loss: 0.966\t(1427.00s - 1144.17s remaining)\n",
            "EPOCH: 112.000\td_loss: 1.237\tg_loss: 0.965\t(1440.03s - 1131.45s remaining)\n",
            "EPOCH: 113.000\td_loss: 1.240\tg_loss: 0.959\t(1453.07s - 1118.74s remaining)\n",
            "EPOCH: 114.000\td_loss: 1.245\tg_loss: 0.944\t(1466.09s - 1106.00s remaining)\n",
            "EPOCH: 115.000\td_loss: 1.241\tg_loss: 0.965\t(1479.53s - 1093.56s remaining)\n",
            "EPOCH: 116.000\td_loss: 1.242\tg_loss: 0.954\t(1493.15s - 1081.25s remaining)\n",
            "EPOCH: 117.000\td_loss: 1.247\tg_loss: 0.946\t(1506.42s - 1068.66s remaining)\n",
            "EPOCH: 118.000\td_loss: 1.247\tg_loss: 0.926\t(1519.91s - 1056.21s remaining)\n",
            "EPOCH: 119.000\td_loss: 1.251\tg_loss: 0.935\t(1533.72s - 1043.96s remaining)\n",
            "EPOCH: 120.000\td_loss: 1.248\tg_loss: 0.941\t(1547.61s - 1031.74s remaining)\n",
            "EPOCH: 121.000\td_loss: 1.245\tg_loss: 0.955\t(1561.19s - 1019.29s remaining)\n",
            "EPOCH: 122.000\td_loss: 1.249\tg_loss: 0.950\t(1574.56s - 1006.69s remaining)\n",
            "EPOCH: 123.000\td_loss: 1.247\tg_loss: 0.944\t(1587.89s - 994.05s remaining)\n",
            "EPOCH: 124.000\td_loss: 1.238\tg_loss: 0.956\t(1601.54s - 981.59s remaining)\n",
            "EPOCH: 125.000\td_loss: 1.251\tg_loss: 0.941\t(1615.39s - 969.23s remaining)\n",
            "EPOCH: 126.000\td_loss: 1.249\tg_loss: 0.948\t(1628.82s - 956.61s remaining)\n",
            "EPOCH: 127.000\td_loss: 1.254\tg_loss: 0.933\t(1642.68s - 944.22s remaining)\n",
            "EPOCH: 128.000\td_loss: 1.251\tg_loss: 0.927\t(1656.09s - 931.55s remaining)\n",
            "EPOCH: 129.000\td_loss: 1.260\tg_loss: 0.922\t(1669.69s - 918.98s remaining)\n",
            "EPOCH: 130.000\td_loss: 1.262\tg_loss: 0.916\t(1683.25s - 906.36s remaining)\n",
            "EPOCH: 131.000\td_loss: 1.249\tg_loss: 0.941\t(1696.50s - 893.58s remaining)\n",
            "EPOCH: 132.000\td_loss: 1.254\tg_loss: 0.935\t(1710.02s - 880.92s remaining)\n",
            "EPOCH: 133.000\td_loss: 1.251\tg_loss: 0.941\t(1723.55s - 868.25s remaining)\n",
            "EPOCH: 134.000\td_loss: 1.245\tg_loss: 0.949\t(1737.01s - 855.54s remaining)\n",
            "EPOCH: 135.000\td_loss: 1.254\tg_loss: 0.927\t(1750.90s - 843.02s remaining)\n",
            "EPOCH: 136.000\td_loss: 1.257\tg_loss: 0.922\t(1764.25s - 830.23s remaining)\n",
            "EPOCH: 137.000\td_loss: 1.260\tg_loss: 0.919\t(1777.60s - 817.43s remaining)\n",
            "EPOCH: 138.000\td_loss: 1.264\tg_loss: 0.917\t(1791.03s - 804.67s remaining)\n",
            "EPOCH: 139.000\td_loss: 1.267\tg_loss: 0.909\t(1804.99s - 792.12s remaining)\n",
            "EPOCH: 140.000\td_loss: 1.268\tg_loss: 0.912\t(1819.06s - 779.60s remaining)\n",
            "EPOCH: 141.000\td_loss: 1.260\tg_loss: 0.928\t(1833.03s - 767.01s remaining)\n",
            "EPOCH: 142.000\td_loss: 1.262\tg_loss: 0.920\t(1847.04s - 754.42s remaining)\n",
            "EPOCH: 143.000\td_loss: 1.263\tg_loss: 0.925\t(1861.11s - 741.84s remaining)\n",
            "EPOCH: 144.000\td_loss: 1.262\tg_loss: 0.915\t(1874.95s - 729.15s remaining)\n",
            "EPOCH: 145.000\td_loss: 1.268\tg_loss: 0.903\t(1888.85s - 716.46s remaining)\n",
            "EPOCH: 146.000\td_loss: 1.270\tg_loss: 0.909\t(1902.87s - 703.80s remaining)\n",
            "EPOCH: 147.000\td_loss: 1.268\tg_loss: 0.907\t(1916.79s - 691.09s remaining)\n",
            "EPOCH: 148.000\td_loss: 1.268\tg_loss: 0.913\t(1930.89s - 678.42s remaining)\n",
            "EPOCH: 149.000\td_loss: 1.266\tg_loss: 0.903\t(1944.73s - 665.65s remaining)\n",
            "EPOCH: 150.000\td_loss: 1.268\tg_loss: 0.906\t(1959.24s - 653.08s remaining)\n",
            "EPOCH: 151.000\td_loss: 1.274\tg_loss: 0.905\t(1973.09s - 640.27s remaining)\n",
            "EPOCH: 152.000\td_loss: 1.273\tg_loss: 0.919\t(1987.13s - 627.52s remaining)\n",
            "EPOCH: 153.000\td_loss: 1.256\tg_loss: 0.937\t(2000.86s - 614.64s remaining)\n",
            "EPOCH: 154.000\td_loss: 1.270\tg_loss: 0.897\t(2015.12s - 601.92s remaining)\n",
            "EPOCH: 155.000\td_loss: 1.272\tg_loss: 0.894\t(2029.28s - 589.15s remaining)\n",
            "EPOCH: 156.000\td_loss: 1.265\tg_loss: 0.911\t(2043.64s - 576.41s remaining)\n",
            "EPOCH: 157.000\td_loss: 1.271\tg_loss: 0.895\t(2057.61s - 563.55s remaining)\n",
            "EPOCH: 158.000\td_loss: 1.276\tg_loss: 0.895\t(2072.00s - 550.79s remaining)\n",
            "EPOCH: 159.000\td_loss: 1.272\tg_loss: 0.906\t(2086.20s - 537.95s remaining)\n",
            "EPOCH: 160.000\td_loss: 1.272\tg_loss: 0.907\t(2100.51s - 525.13s remaining)\n",
            "EPOCH: 161.000\td_loss: 1.273\tg_loss: 0.904\t(2114.72s - 512.26s remaining)\n",
            "EPOCH: 162.000\td_loss: 1.266\tg_loss: 0.913\t(2129.18s - 499.44s remaining)\n",
            "EPOCH: 163.000\td_loss: 1.275\tg_loss: 0.887\t(2143.25s - 486.51s remaining)\n",
            "EPOCH: 164.000\td_loss: 1.271\tg_loss: 0.901\t(2157.50s - 473.60s remaining)\n",
            "EPOCH: 165.000\td_loss: 1.272\tg_loss: 0.918\t(2171.67s - 460.66s remaining)\n",
            "EPOCH: 166.000\td_loss: 1.269\tg_loss: 0.907\t(2186.02s - 447.74s remaining)\n",
            "EPOCH: 167.000\td_loss: 1.281\tg_loss: 0.888\t(2200.47s - 434.82s remaining)\n",
            "EPOCH: 168.000\td_loss: 1.273\tg_loss: 0.910\t(2214.70s - 421.85s remaining)\n",
            "EPOCH: 169.000\td_loss: 1.271\tg_loss: 0.901\t(2228.81s - 408.84s remaining)\n",
            "EPOCH: 170.000\td_loss: 1.275\tg_loss: 0.895\t(2242.68s - 395.77s remaining)\n",
            "EPOCH: 171.000\td_loss: 1.273\tg_loss: 0.898\t(2257.16s - 382.79s remaining)\n",
            "EPOCH: 172.000\td_loss: 1.270\tg_loss: 0.906\t(2271.58s - 369.79s remaining)\n",
            "EPOCH: 173.000\td_loss: 1.268\tg_loss: 0.904\t(2285.98s - 356.77s remaining)\n",
            "EPOCH: 174.000\td_loss: 1.273\tg_loss: 0.893\t(2300.40s - 343.74s remaining)\n",
            "EPOCH: 175.000\td_loss: 1.273\tg_loss: 0.894\t(2314.91s - 330.70s remaining)\n",
            "EPOCH: 176.000\td_loss: 1.269\tg_loss: 0.907\t(2329.32s - 317.63s remaining)\n",
            "EPOCH: 177.000\td_loss: 1.280\tg_loss: 0.889\t(2344.18s - 304.61s remaining)\n",
            "EPOCH: 178.000\td_loss: 1.272\tg_loss: 0.896\t(2358.27s - 291.47s remaining)\n",
            "EPOCH: 179.000\td_loss: 1.275\tg_loss: 0.894\t(2372.23s - 278.31s remaining)\n",
            "EPOCH: 180.000\td_loss: 1.272\tg_loss: 0.909\t(2386.40s - 265.16s remaining)\n",
            "EPOCH: 181.000\td_loss: 1.271\tg_loss: 0.897\t(2400.74s - 252.01s remaining)\n",
            "EPOCH: 182.000\td_loss: 1.278\tg_loss: 0.891\t(2414.91s - 238.84s remaining)\n",
            "EPOCH: 183.000\td_loss: 1.274\tg_loss: 0.899\t(2428.85s - 225.63s remaining)\n",
            "EPOCH: 184.000\td_loss: 1.270\tg_loss: 0.905\t(2442.80s - 212.42s remaining)\n",
            "EPOCH: 185.000\td_loss: 1.281\tg_loss: 0.884\t(2456.75s - 199.20s remaining)\n",
            "EPOCH: 186.000\td_loss: 1.282\tg_loss: 0.874\t(2471.23s - 186.01s remaining)\n",
            "EPOCH: 187.000\td_loss: 1.279\tg_loss: 0.892\t(2485.90s - 172.82s remaining)\n",
            "EPOCH: 188.000\td_loss: 1.282\tg_loss: 0.886\t(2500.06s - 159.58s remaining)\n",
            "EPOCH: 189.000\td_loss: 1.278\tg_loss: 0.889\t(2514.38s - 146.34s remaining)\n",
            "EPOCH: 190.000\td_loss: 1.276\tg_loss: 0.895\t(2528.89s - 133.10s remaining)\n",
            "EPOCH: 191.000\td_loss: 1.283\tg_loss: 0.887\t(2543.72s - 119.86s remaining)\n",
            "EPOCH: 192.000\td_loss: 1.277\tg_loss: 0.903\t(2558.13s - 106.59s remaining)\n",
            "EPOCH: 193.000\td_loss: 1.279\tg_loss: 0.881\t(2572.89s - 93.32s remaining)\n",
            "EPOCH: 194.000\td_loss: 1.282\tg_loss: 0.882\t(2587.38s - 80.02s remaining)\n",
            "EPOCH: 195.000\td_loss: 1.282\tg_loss: 0.887\t(2601.27s - 66.70s remaining)\n",
            "EPOCH: 196.000\td_loss: 1.275\tg_loss: 0.894\t(2615.26s - 53.37s remaining)\n",
            "EPOCH: 197.000\td_loss: 1.279\tg_loss: 0.885\t(2629.34s - 40.04s remaining)\n",
            "EPOCH: 198.000\td_loss: 1.281\tg_loss: 0.887\t(2643.65s - 26.70s remaining)\n",
            "EPOCH: 199.000\td_loss: 1.277\tg_loss: 0.909\t(2658.09s - 13.36s remaining)\n",
            "EPOCH: 199.996\td_loss: 1.246\tg_loss: 0.942\t(2672.44s - 0.06s remaining)"
          ],
          "name": "stdout"
        },
        {
          "output_type": "stream",
          "text": [
            "  0%|          | 0/200 [00:00<?, ?it/s]/usr/local/lib/python3.6/dist-packages/numpy/core/fromnumeric.py:3335: RuntimeWarning: Mean of empty slice.\n",
            "  out=out, **kwargs)\n",
            "/usr/local/lib/python3.6/dist-packages/numpy/core/_methods.py:161: RuntimeWarning: invalid value encountered in double_scalars\n",
            "  ret = ret.dtype.type(ret / rcount)\n",
            " 13%|█▎        | 26/200 [00:00<00:00, 253.49it/s]"
          ],
          "name": "stderr"
        },
        {
          "output_type": "stream",
          "text": [
            "\rEPOCH: 199.998\td_loss: 1.263\tg_loss: 0.876\t(2672.47s - 0.03s remaining)\rEPOCH: 200.000\td_loss: 1.256\tg_loss: 0.935\t(2672.49s - 0.00s remaining)\rEPOCH: 200.000\td_loss: 1.285\tg_loss: 0.884\t(2672.52s - 0.00s remaining)\n"
          ],
          "name": "stdout"
        },
        {
          "output_type": "stream",
          "text": [
            "100%|██████████| 200/200 [00:03<00:00, 62.85it/s]\n"
          ],
          "name": "stderr"
        },
        {
          "output_type": "display_data",
          "data": {
            "image/png": "[encoded data removed]",
            "text/plain": [
              "<Figure size 576x432 with 1 Axes>"
            ]
          },
          "metadata": {
            "tags": [],
            "needs_background": "light"
          }
        }
      ]
    },
    {
      "cell_type": "code",
      "metadata": {
        "id": "dTCkHHYeuLs4",
        "outputId": "967331a3-5a0e-48b9-aa28-0fc2c132b4e6",
        "colab": {
          "base_uri": "https://localhost:8080/",
          "height": 303
        }
      },
      "source": [
        "z = torch.randn(64, 100).to(device)\n",
        "sample_images = generator(z).data.cpu().view(64, 1, 28, 28)\n",
        "grid = make_grid(sample_images, nrow=8, normalize=True)\n",
        "show(grid.cpu().detach().permute(1,2,0), sz=5)"
      ],
      "execution_count": null,
      "outputs": [
        {
          "output_type": "display_data",
          "data": {
            "image/png": "[encoded data removed]",
            "text/plain": [
              "<Figure size 360x360 with 1 Axes>"
            ]
          },
          "metadata": {
            "tags": [],
            "needs_background": "light"
          }
        }
      ]
    },
    {
      "cell_type": "code",
      "metadata": {
        "id": "_gc_mUqG94js"
      },
      "source": [
        ""
      ],
      "execution_count": null,
      "outputs": []
    }
  ]
}