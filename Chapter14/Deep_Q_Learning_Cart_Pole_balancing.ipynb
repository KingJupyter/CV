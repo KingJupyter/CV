{
 "cells": [
  {
   "cell_type": "markdown",
   "metadata": {
    "colab_type": "text",
    "id": "view-in-github"
   },
   "source": [
    "<a href=\"https://colab.research.google.com/github/PacktPublishing/Modern-Computer-Vision-with-PyTorch-2E/blob/main/Chapter14/Deep_Q_Learning_Cart_Pole_balancing.ipynb\" target=\"_parent\"><img src=\"https://colab.research.google.com/assets/colab-badge.svg\" alt=\"Open In Colab\"/></a>"
   ]
  },
  {
   "cell_type": "code",
   "execution_count": null,
   "metadata": {
    "id": "VGkiYUyYvZf9"
   },
   "outputs": [],
   "source": [
    "%%capture\n",
    "%pip install -U \"gym==0.26.2\""
   ]
  },
  {
   "cell_type": "code",
   "execution_count": 2,
   "metadata": {
    "id": "EAsxgBMbnOlT"
   },
   "outputs": [],
   "source": [
    "import gym\n",
    "import numpy as np\n",
    "import cv2\n",
    "from collections import deque\n",
    "import torch\n",
    "import torch.nn as nn\n",
    "import torch.nn.functional as F\n",
    "import numpy as np\n",
    "import random\n",
    "from collections import namedtuple, deque\n",
    "import torch\n",
    "import torch.nn.functional as F\n",
    "import torch.optim as optim\n",
    "device = torch.device(\"cuda\" if torch.cuda.is_available() else \"cpu\")"
   ]
  },
  {
   "cell_type": "code",
   "execution_count": 3,
   "metadata": {
    "id": "3ANvz1Z_nWDz"
   },
   "outputs": [],
   "source": [
    "env = gym.make('CartPole-v1')"
   ]
  },
  {
   "cell_type": "code",
   "execution_count": 4,
   "metadata": {
    "id": "NXyrPGJSnXpp"
   },
   "outputs": [],
   "source": [
    "class DQNetwork(nn.Module):\n",
    "    def __init__(self, state_size, action_size):\n",
    "        super(DQNetwork, self).__init__()\n",
    "\n",
    "        self.fc1 = nn.Linear(state_size, 24)\n",
    "        self.fc2 = nn.Linear(24, 24)\n",
    "        self.fc3 = nn.Linear(24, action_size)\n",
    "\n",
    "    def forward(self, state):\n",
    "        x = F.relu(self.fc1(state))\n",
    "        x = F.relu(self.fc2(x))\n",
    "        x = self.fc3(x)\n",
    "        return x\n"
   ]
  },
  {
   "cell_type": "code",
   "execution_count": 5,
   "metadata": {
    "id": "Fxxt2zRGnczv"
   },
   "outputs": [],
   "source": [
    "class Agent():\n",
    "    def __init__(self, state_size, action_size):\n",
    "\n",
    "        self.state_size = state_size\n",
    "        self.action_size = action_size\n",
    "        self.seed = random.seed(0)\n",
    "\n",
    "        ## hyperparameters\n",
    "        self.buffer_size = 2000\n",
    "        self.batch_size = 64\n",
    "        self.gamma = 0.99\n",
    "        self.lr = 0.0025\n",
    "        self.update_every = 4\n",
    "\n",
    "        # Q-Network\n",
    "        self.local = DQNetwork(state_size, action_size).to(device)\n",
    "        self.optimizer = optim.Adam(self.local.parameters(), lr=self.lr)\n",
    "\n",
    "        # Replay memory\n",
    "        self.memory = deque(maxlen=self.buffer_size)\n",
    "        self.experience = namedtuple(\"Experience\", field_names=[\"state\", \"action\", \"reward\", \"next_state\", \"done\"])\n",
    "        self.t_step = 0\n",
    "    def step(self, state, action, reward, next_state, done):\n",
    "        # Save experience in replay memory\n",
    "        self.memory.append(self.experience(state, action, reward, next_state, done))\n",
    "        # Learn every update_every time steps.\n",
    "        self.t_step = (self.t_step + 1) % self.update_every\n",
    "        if self.t_step == 0:\n",
    "            # If enough samples are available in memory, get random subset and learn\n",
    "            if len(self.memory) > self.batch_size:\n",
    "                experiences = self.sample_experiences()\n",
    "                self.learn(experiences, self.gamma)\n",
    "    def act(self, state, eps=0.):\n",
    "        # Epsilon-greedy action selection\n",
    "        if random.random() > eps:\n",
    "            state = torch.from_numpy(state).float().unsqueeze(0).to(device)\n",
    "            self.local.eval()\n",
    "            with torch.no_grad():\n",
    "                action_values = self.local(state)\n",
    "            self.local.train()\n",
    "            return np.argmax(action_values.cpu().data.numpy())\n",
    "        else:\n",
    "            return random.choice(np.arange(self.action_size))\n",
    "    def learn(self, experiences, gamma):\n",
    "        states, actions, rewards, next_states, dones = experiences\n",
    "       # Get expected Q values from local model\n",
    "        Q_expected = self.local(states).gather(1, actions)\n",
    "\n",
    "        # Get max predicted Q values (for next states) from local model\n",
    "        Q_targets_next = self.local(next_states).detach().max(1)[0].unsqueeze(1)\n",
    "        # Compute Q targets for current states\n",
    "        Q_targets = rewards + (gamma * Q_targets_next * (1 - dones))\n",
    "\n",
    "        # Compute loss\n",
    "        loss = F.mse_loss(Q_expected, Q_targets)\n",
    "\n",
    "        # Minimize the loss\n",
    "        self.optimizer.zero_grad()\n",
    "        loss.backward()\n",
    "        self.optimizer.step()\n",
    "    def sample_experiences(self):\n",
    "        experiences = random.sample(self.memory, k=self.batch_size)\n",
    "        states = torch.from_numpy(np.vstack([e.state for e in experiences if e is not None])).float().to(device)\n",
    "        actions = torch.from_numpy(np.vstack([e.action for e in experiences if e is not None])).long().to(device)\n",
    "        rewards = torch.from_numpy(np.vstack([e.reward for e in experiences if e is not None])).float().to(device)\n",
    "        next_states = torch.from_numpy(np.vstack([e.next_state for e in experiences if e is not None])).float().to(device)\n",
    "        dones = torch.from_numpy(np.vstack([e.done for e in experiences if e is not None]).astype(np.uint8)).float().to(device)\n",
    "        return (states, actions, rewards, next_states, dones)\n",
    "agent = Agent(env.observation_space.shape[0], env.action_space.n)"
   ]
  },
  {
   "cell_type": "code",
   "execution_count": 6,
   "metadata": {
    "id": "Ov7oTYsYnowd"
   },
   "outputs": [],
   "source": [
    "scores = [] # list containing scores from each episode\n",
    "scores_window = deque(maxlen=100) # last 100 scores\n",
    "n_episodes=5000\n",
    "max_t=5000\n",
    "eps_start=1.0\n",
    "eps_end=0.001\n",
    "eps_decay=0.9995\n",
    "eps = eps_start"
   ]
  },
  {
   "cell_type": "code",
   "execution_count": 8,
   "metadata": {
    "colab": {
     "base_uri": "https://localhost:8080/",
     "height": 886
    },
    "id": "mHOK_FWapNn7",
    "outputId": "d4ed9ff9-bdc0-43ec-b4d3-2f39c2c7ac88"
   },
   "outputs": [
    {
     "name": "stderr",
     "output_type": "stream",
     "text": [
      "/usr/local/lib/python3.10/dist-packages/gym/utils/passive_env_checker.py:233: DeprecationWarning: `np.bool8` is a deprecated alias for `np.bool_`.  (Deprecated NumPy 1.24)\n",
      "  if not isinstance(terminated, (bool, np.bool8)):\n"
     ]
    },
    {
     "name": "stdout",
     "output_type": "stream",
     "text": [
      "Episode 100\tAverage Score: 12.17 \tEpsilon: 0.951217530242334\n",
      "Episode 200\tAverage Score: 15.90 \tEpsilon: 0.9048147898403269\n",
      "Episode 300\tAverage Score: 17.52 \tEpsilon: 0.8606756897186528\n",
      "Episode 400\tAverage Score: 26.43 \tEpsilon: 0.8186898039137951\n",
      "Episode 500\tAverage Score: 20.33 \tEpsilon: 0.7787520933134615\n",
      "Episode 600\tAverage Score: 20.57 \tEpsilon: 0.7407626428726788\n",
      "Episode 700\tAverage Score: 22.26 \tEpsilon: 0.7046264116491338\n",
      "Episode 800\tAverage Score: 26.29 \tEpsilon: 0.6702529950324074\n",
      "Episode 900\tAverage Score: 26.10 \tEpsilon: 0.637556398572254\n",
      "Episode 1000\tAverage Score: 24.13 \tEpsilon: 0.606454822840097\n",
      "Episode 1100\tAverage Score: 21.98 \tEpsilon: 0.5768704587855094\n",
      "Episode 1200\tAverage Score: 24.44 \tEpsilon: 0.548729293075715\n",
      "Episode 1300\tAverage Score: 20.56 \tEpsilon: 0.5219609229311034\n",
      "Episode 1400\tAverage Score: 26.37 \tEpsilon: 0.49649837999353363\n",
      "Episode 1500\tAverage Score: 45.01 \tEpsilon: 0.4722779627867691\n",
      "Episode 1600\tAverage Score: 52.87 \tEpsilon: 0.44923907734991153\n",
      "Episode 1700\tAverage Score: 46.37 \tEpsilon: 0.4273240856451275\n",
      "Episode 1800\tAverage Score: 34.19 \tEpsilon: 0.406478161360422\n",
      "Episode 1900\tAverage Score: 52.34 \tEpsilon: 0.3866491527467055\n",
      "Episode 2000\tAverage Score: 104.27 \tEpsilon: 0.3677874521460121\n",
      "Episode 2100\tAverage Score: 116.09 \tEpsilon: 0.34984587188445015\n",
      "Episode 2138\tReward 1654.0 \tAverage Score: 185.26 \tEpsilon: 0.34325991842667775"
     ]
    },
    {
     "data": {
      "text/plain": [
       "Text(0.5, 1.0, 'Scores over increasing episodes')"
      ]
     },
     "execution_count": 8,
     "metadata": {},
     "output_type": "execute_result"
    },
    {
     "data": {
      "image/png": "[encoded data removed]",
      "text/plain": [
       "<Figure size 640x480 with 1 Axes>"
      ]
     },
     "metadata": {},
     "output_type": "display_data"
    }
   ],
   "source": [
    "for i_episode in range(1, n_episodes+1):\n",
    "    state, *_ = env.reset()\n",
    "    state_size = env.observation_space.shape[0]\n",
    "    state = np.reshape(state, [1, state_size])\n",
    "    score = 0\n",
    "    for i in range(max_t):\n",
    "        action = agent.act(state, eps)\n",
    "        next_state, reward, done, *_ = env.step(action)\n",
    "        next_state = np.reshape(next_state, [1, state_size])\n",
    "        reward = reward if not done or score == 499 else -10\n",
    "        agent.step(state, action, reward, next_state, done)\n",
    "        state = next_state\n",
    "        score += reward\n",
    "        if done:\n",
    "            break\n",
    "    scores_window.append(score) # save most recent score\n",
    "    scores.append(score) # save most recent score\n",
    "    eps = max(eps_end, eps_decay*eps) # decrease epsilon\n",
    "    print('\\rEpisode {}\\tReward {} \\tAverage Score: {:.2f} \\tEpsilon: {:.2f}'.format(i_episode,score,np.mean(scores_window), eps), end=\"\")\n",
    "    if i_episode % 100 == 0:\n",
    "        print('\\rEpisode {}\\tAverage Score: {:.2f} \\tEpsilon: {:.2f}'.format(i_episode, np.mean(scores_window), eps))\n",
    "\n",
    "    if i_episode>10 and np.mean(scores[-10:])>450:\n",
    "        break\n",
    "\n",
    "import matplotlib.pyplot as plt\n",
    "%matplotlib inline\n",
    "plt.plot(scores)\n",
    "plt.title('Scores over increasing episodes')"
   ]
  },
  {
   "cell_type": "code",
   "execution_count": null,
   "metadata": {
    "id": "CCoDl_OVpWhl"
   },
   "outputs": [],
   "source": []
  }
 ],
 "metadata": {
  "colab": {
   "name": "Deep_Q_Learning_Cart_Pole_balancing.ipynb",
   "provenance": []
  },
  "kernelspec": {
   "display_name": "Python 3 (ipykernel)",
   "language": "python",
   "name": "python3"
  },
  "language_info": {
   "codemirror_mode": {
    "name": "ipython",
    "version": 3
   },
   "file_extension": ".py",
   "mimetype": "text/x-python",
   "name": "python",
   "nbconvert_exporter": "python",
   "pygments_lexer": "ipython3",
   "version": "3.12.2"
  }
 },
 "nbformat": 4,
 "nbformat_minor": 4
}
