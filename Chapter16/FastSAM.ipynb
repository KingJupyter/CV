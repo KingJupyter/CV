{
 "cells": [
  {
    "cell_type": "markdown",
    "metadata": {
      "id": "view-in-github",
      "colab_type": "text"
    },
    "source": [
      "<a href=\"https://colab.research.google.com/github/PacktPublishing/Modern-Computer-Vision-with-PyTorch-2E/blob/main/Chapter16/FastSAM.ipynb\" target=\"_parent\"><img src=\"https://colab.research.google.com/assets/colab-badge.svg\" alt=\"Open In Colab\"/></a>"
    ]
  },
  {
   "cell_type": "code",
   "execution_count": null,
   "metadata": {
    "colab": {
     "base_uri": "https://localhost:8080/"
    },
    "id": "AUzvv1yp5yPR",
    "outputId": "3dabc20b-45a9-48ed-ce2d-b152f638b858"
   },
   "outputs": [],
   "source": [
    "%%capture\n",
    "!git clone https://github.com/CASIA-IVA-Lab/FastSAM.git\n",
    "!wget https://huggingface.co/spaces/An-619/FastSAM/resolve/main/weights/FastSAM.pt"
   ]
  },
  {
   "cell_type": "code",
   "execution_count": null,
   "metadata": {
    "colab": {
     "base_uri": "https://localhost:8080/"
    },
    "id": "o2i_uC9V6EeD",
    "outputId": "7e958de1-014e-403a-9c25-bb65822bb904"
   },
   "outputs": [],
   "source": [
    "%%capture\n",
    "%pip install -r FastSAM/requirements.txt\n",
    "%pip install git+https://github.com/openai/CLIP.git"
   ]
  },
  {
   "cell_type": "code",
   "execution_count": 4,
   "metadata": {
    "colab": {
     "base_uri": "https://localhost:8080/"
    },
    "id": "wSyEkX2u6IQa",
    "outputId": "d0c4ab0a-5302-498c-97d0-f46d7cb493dc"
   },
   "outputs": [
    {
     "name": "stdout",
     "output_type": "stream",
     "text": [
      "/content/FastSAM\n"
     ]
    }
   ],
   "source": [
    "%cd FastSAM"
   ]
  },
  {
   "cell_type": "code",
   "execution_count": 5,
   "metadata": {
    "id": "GeLObL666LIF"
   },
   "outputs": [],
   "source": [
    "import matplotlib.pyplot as plt\n",
    "import cv2\n",
    "from fastsam import FastSAM, FastSAMPrompt"
   ]
  },
  {
   "cell_type": "code",
   "execution_count": 6,
   "metadata": {
    "id": "x0ohnhdR6P_2"
   },
   "outputs": [],
   "source": [
    "model = FastSAM('/content/FastSAM.pt')\n",
    "IMAGE_PATH = '/content/FastSAM/images/cat.jpg'\n",
    "DEVICE = 'cuda'"
   ]
  },
  {
   "cell_type": "code",
   "execution_count": 14,
   "metadata": {
    "colab": {
     "base_uri": "https://localhost:8080/"
    },
    "id": "Z823Knhi6Ur6",
    "outputId": "53247b3d-19b4-48d2-b34b-2a41cc2d54b3"
   },
   "outputs": [
    {
     "name": "stderr",
     "output_type": "stream",
     "text": [
      "\n",
      "image 1/1 /content/FastSAM/images/cat.jpg: 1024x576 29 objects, 97.6ms\n",
      "Speed: 4.3ms preprocess, 97.6ms inference, 10.2ms postprocess per image at shape (1, 3, 1024, 1024)\n"
     ]
    },
    {
     "name": "stdout",
     "output_type": "stream",
     "text": [
      "CPU times: user 462 ms, sys: 5.72 ms, total: 467 ms\n",
      "Wall time: 466 ms\n"
     ]
    }
   ],
   "source": [
    "%%time\n",
    "everything_results = model(IMAGE_PATH, device=DEVICE, retina_masks=True, imgsz=1024, conf=0.4, iou=0.9,)\n",
    "prompt_process = FastSAMPrompt(IMAGE_PATH, everything_results, device=DEVICE) # everything prompt ann = prompt_process.everything_prompt()\n",
    "ann = prompt_process.everything_prompt()\n",
    "# ann = prompt_process.text_prompt(text='a photo of a cat')"
   ]
  },
  {
   "cell_type": "code",
   "execution_count": 16,
   "metadata": {
    "colab": {
     "base_uri": "https://localhost:8080/"
    },
    "id": "JA6vwFZC6w0m",
    "outputId": "695a8c9d-5245-4093-f38a-eda1f6138a56"
   },
   "outputs": [
    {
     "data": {
      "text/plain": [
       "torch.Size([29, 1920, 1080])"
      ]
     },
     "execution_count": 16,
     "metadata": {},
     "output_type": "execute_result"
    }
   ],
   "source": [
    "ann.shape"
   ]
  }
 ],
 "metadata": {
  "accelerator": "GPU",
  "colab": {
   "gpuType": "T4",
   "provenance": []
  },
  "kernelspec": {
   "display_name": "Python 3 (ipykernel)",
   "language": "python",
   "name": "python3"
  },
  "language_info": {
   "name": "python"
  }
 },
 "nbformat": 4,
 "nbformat_minor": 4
}
